{
 "cells": [
  {
   "cell_type": "code",
   "execution_count": 1,
   "metadata": {},
   "outputs": [
    {
     "name": "stdout",
     "output_type": "stream",
     "text": [
      "importing Jupyter notebook from utils.ipynb\n"
     ]
    }
   ],
   "source": [
    "import numpy as np\n",
    "import pandas as pd\n",
    "import import_ipynb\n",
    "from utils import show"
   ]
  },
  {
   "cell_type": "code",
   "execution_count": 2,
   "metadata": {},
   "outputs": [
    {
     "data": {
      "text/html": [
       "<div>\n",
       "<style scoped>\n",
       "    .dataframe tbody tr th:only-of-type {\n",
       "        vertical-align: middle;\n",
       "    }\n",
       "\n",
       "    .dataframe tbody tr th {\n",
       "        vertical-align: top;\n",
       "    }\n",
       "\n",
       "    .dataframe thead th {\n",
       "        text-align: right;\n",
       "    }\n",
       "</style>\n",
       "<table border=\"1\" class=\"dataframe\">\n",
       "  <thead>\n",
       "    <tr style=\"text-align: right;\">\n",
       "      <th></th>\n",
       "      <th>key1</th>\n",
       "      <th>key2</th>\n",
       "      <th>data1</th>\n",
       "      <th>data2</th>\n",
       "    </tr>\n",
       "  </thead>\n",
       "  <tbody>\n",
       "    <tr>\n",
       "      <th>0</th>\n",
       "      <td>a</td>\n",
       "      <td>one</td>\n",
       "      <td>-0.945559</td>\n",
       "      <td>0.978327</td>\n",
       "    </tr>\n",
       "    <tr>\n",
       "      <th>1</th>\n",
       "      <td>a</td>\n",
       "      <td>two</td>\n",
       "      <td>0.945257</td>\n",
       "      <td>-1.484599</td>\n",
       "    </tr>\n",
       "    <tr>\n",
       "      <th>2</th>\n",
       "      <td>b</td>\n",
       "      <td>one</td>\n",
       "      <td>0.752178</td>\n",
       "      <td>0.261085</td>\n",
       "    </tr>\n",
       "    <tr>\n",
       "      <th>3</th>\n",
       "      <td>b</td>\n",
       "      <td>two</td>\n",
       "      <td>-1.078760</td>\n",
       "      <td>1.046072</td>\n",
       "    </tr>\n",
       "    <tr>\n",
       "      <th>4</th>\n",
       "      <td>a</td>\n",
       "      <td>one</td>\n",
       "      <td>-0.105603</td>\n",
       "      <td>-0.833717</td>\n",
       "    </tr>\n",
       "  </tbody>\n",
       "</table>\n",
       "</div>"
      ],
      "text/plain": [
       "  key1 key2     data1     data2\n",
       "0    a  one -0.945559  0.978327\n",
       "1    a  two  0.945257 -1.484599\n",
       "2    b  one  0.752178  0.261085\n",
       "3    b  two -1.078760  1.046072\n",
       "4    a  one -0.105603 -0.833717"
      ]
     },
     "execution_count": 2,
     "metadata": {},
     "output_type": "execute_result"
    }
   ],
   "source": [
    "df = pd.DataFrame({'key1':list('aabba'),\n",
    "                   'key2':['one','two','one','two','one'],\n",
    "                   'data1':np.random.randn(5),\n",
    "                   'data2':np.random.randn(5)})\n",
    "df"
   ]
  },
  {
   "cell_type": "code",
   "execution_count": 3,
   "metadata": {},
   "outputs": [
    {
     "data": {
      "text/plain": [
       "<pandas.core.groupby.generic.SeriesGroupBy object at 0x10ecdf668>"
      ]
     },
     "execution_count": 3,
     "metadata": {},
     "output_type": "execute_result"
    }
   ],
   "source": [
    "grouped = df['data1'].groupby(df['key1'])\n",
    "grouped"
   ]
  },
  {
   "cell_type": "code",
   "execution_count": 6,
   "metadata": {},
   "outputs": [
    {
     "data": {
      "text/html": [
       "<div>\n",
       "<style scoped>\n",
       "    .dataframe tbody tr th:only-of-type {\n",
       "        vertical-align: middle;\n",
       "    }\n",
       "\n",
       "    .dataframe tbody tr th {\n",
       "        vertical-align: top;\n",
       "    }\n",
       "\n",
       "    .dataframe thead th {\n",
       "        text-align: right;\n",
       "    }\n",
       "</style>\n",
       "<table border=\"1\" class=\"dataframe\">\n",
       "  <thead>\n",
       "    <tr style=\"text-align: right;\">\n",
       "      <th></th>\n",
       "      <th>0</th>\n",
       "      <th>1</th>\n",
       "      <th>2</th>\n",
       "      <th>3</th>\n",
       "    </tr>\n",
       "  </thead>\n",
       "  <tbody>\n",
       "    <tr>\n",
       "      <th>0</th>\n",
       "      <td>0</td>\n",
       "      <td>1</td>\n",
       "      <td>2</td>\n",
       "      <td>3</td>\n",
       "    </tr>\n",
       "    <tr>\n",
       "      <th>1</th>\n",
       "      <td>4</td>\n",
       "      <td>5</td>\n",
       "      <td>6</td>\n",
       "      <td>7</td>\n",
       "    </tr>\n",
       "    <tr>\n",
       "      <th>2</th>\n",
       "      <td>8</td>\n",
       "      <td>9</td>\n",
       "      <td>10</td>\n",
       "      <td>11</td>\n",
       "    </tr>\n",
       "  </tbody>\n",
       "</table>\n",
       "</div>"
      ],
      "text/plain": [
       "   0  1   2   3\n",
       "0  0  1   2   3\n",
       "1  4  5   6   7\n",
       "2  8  9  10  11"
      ]
     },
     "execution_count": 6,
     "metadata": {},
     "output_type": "execute_result"
    }
   ],
   "source": [
    "df = pd.DataFrame(np.arange(12).reshape((3,4)))\n",
    "df"
   ]
  },
  {
   "cell_type": "code",
   "execution_count": 9,
   "metadata": {},
   "outputs": [
    {
     "name": "stdout",
     "output_type": "stream",
     "text": [
      "<class 'numpy.ndarray'>\n",
      "--------------------\n",
      "[[ 0  1  2  3]\n",
      " [ 4  5  6  7]\n",
      " [ 8  9 10 11]]\n"
     ]
    }
   ],
   "source": [
    "arr = df.values\n",
    "show(arr)"
   ]
  },
  {
   "cell_type": "code",
   "execution_count": 10,
   "metadata": {},
   "outputs": [
    {
     "name": "stdout",
     "output_type": "stream",
     "text": [
      "<class 'pandas.core.frame.DataFrame'>\n",
      "--------------------\n",
      "   0   1    2    3\n",
      "0  0   1    2    3\n",
      "1  0   5   12   21\n",
      "2  0  45  120  231\n"
     ]
    }
   ],
   "source": [
    "df.values[:] = arr.cumprod(axis=0)\n",
    "show(df)"
   ]
  },
  {
   "cell_type": "code",
   "execution_count": 12,
   "metadata": {},
   "outputs": [
    {
     "name": "stdout",
     "output_type": "stream",
     "text": [
      "<class 'numpy.ndarray'>\n",
      "--------------------\n",
      "[[2. 2. 2. 2.]\n",
      " [2. 2. 2. 2.]\n",
      " [2. 2. 2. 2.]\n",
      " [2. 2. 2. 2.]]\n"
     ]
    }
   ],
   "source": [
    "arr = np.ones((4,4)) * 2.\n",
    "show(arr)"
   ]
  },
  {
   "cell_type": "code",
   "execution_count": 13,
   "metadata": {},
   "outputs": [
    {
     "data": {
      "text/plain": [
       "array([[ 2.,  2.,  2.,  2.],\n",
       "       [ 4.,  4.,  4.,  4.],\n",
       "       [ 8.,  8.,  8.,  8.],\n",
       "       [16., 16., 16., 16.]])"
      ]
     },
     "execution_count": 13,
     "metadata": {},
     "output_type": "execute_result"
    }
   ],
   "source": [
    "arr.cumprod(axis=0)"
   ]
  },
  {
   "cell_type": "code",
   "execution_count": 18,
   "metadata": {},
   "outputs": [],
   "source": [
    "df = pd.DataFrame(np.random.randn(20,12))\n"
   ]
  },
  {
   "cell_type": "code",
   "execution_count": 20,
   "metadata": {},
   "outputs": [],
   "source": [
    "index = np.arange(0,22,2)"
   ]
  },
  {
   "cell_type": "code",
   "execution_count": 24,
   "metadata": {},
   "outputs": [
    {
     "data": {
      "text/plain": [
       "array([ 0,  2, 12, 14, 16, 20])"
      ]
     },
     "execution_count": 24,
     "metadata": {},
     "output_type": "execute_result"
    }
   ],
   "source": [
    "index[index.searchsorted([1,2,13,15,16,21],side='right') - 1]"
   ]
  },
  {
   "cell_type": "code",
   "execution_count": 217,
   "metadata": {},
   "outputs": [],
   "source": [
    "data = np.array([1,2,3,4,4,5,2,5,6,7,8,11,21,23,24,3,8,9,11,21,21,22,23,45,56,77,88,100,3])"
   ]
  },
  {
   "cell_type": "code",
   "execution_count": 224,
   "metadata": {},
   "outputs": [
    {
     "name": "stdout",
     "output_type": "stream",
     "text": [
      "[  1   2   3   4   4   5   2   5   6   7   8  11  21  23  24   3   8   9\n",
      "  11  21  21  22  23  45  56  77  88 100   3]\n",
      "break ponit ---> 4\n",
      "[[1, 2, 3, 4]]\n",
      "check1\n",
      "[[1, 2, 3, 4], [4]]\n",
      "break ponit ---> 2\n",
      "[[1, 2, 3, 4], [4, 5]]\n",
      "check2\n",
      "[[1, 2, 3, 4], [2]]\n",
      "break ponit ---> 3\n",
      "[[1, 2, 3, 4], [2, 5, 6, 7, 8, 11, 21, 23, 24]]\n",
      "check3\n",
      "[[2, 5, 6, 7, 8, 11, 21, 23, 24], [3]]\n",
      "break ponit ---> 21\n",
      "[[2, 5, 6, 7, 8, 11, 21, 23, 24], [3, 8, 9, 11, 21]]\n",
      "check2\n",
      "[[2, 5, 6, 7, 8, 11, 21, 23, 24], [21]]\n",
      "break ponit ---> 3\n",
      "[[2, 5, 6, 7, 8, 11, 21, 23, 24], [21, 22, 23, 45, 56, 77, 88, 100]]\n",
      "check2\n",
      "[[2, 5, 6, 7, 8, 11, 21, 23, 24], [3]]\n"
     ]
    }
   ],
   "source": [
    "print(data)\n",
    "def checkArray(arr,item):\n",
    "    #arr = []\n",
    "    if len(arr)==0 or arr[-1]<item:\n",
    "        #arr = np.append(arr,item)\n",
    "        arr.append(item)\n",
    "    else:\n",
    "        return False\n",
    "    return len(arr)\n",
    "\n",
    "dp = [[]]\n",
    "for i,item in enumerate(data):    \n",
    "    rst_1 = checkArray(dp[-1],item)\n",
    "    #print(dp)\n",
    "    if not rst_1 or i==len(data)-1:\n",
    "        print('break ponit --->',item)\n",
    "        print(dp)\n",
    "        if len(dp) == 1:\n",
    "            print('check1')\n",
    "            dp.append([item])\n",
    "            print(dp)\n",
    "            #dp = np.append(dp,np.array(item))\n",
    "            continue\n",
    "        elif len(dp) == 2 and len(dp[0]) > len(dp[1]):\n",
    "            print('check2')\n",
    "            #dp = np.delete(dp,1)\n",
    "            #dp = np.append(dp,np.array(item))\n",
    "            dp.pop()\n",
    "            dp.append([item])\n",
    "            print(dp)\n",
    "            continue\n",
    "        else:\n",
    "            print('check3')\n",
    "            dp[0] = dp[1]\n",
    "            dp.pop()\n",
    "            dp.append([item])\n",
    "            print(dp)\n",
    "#print(dp)\n",
    "                #dp = dp.delete(dp,1)\n",
    "    #return dp[0], dp[0].size\n"
   ]
  },
  {
   "cell_type": "code",
   "execution_count": 160,
   "metadata": {},
   "outputs": [
    {
     "name": "stdout",
     "output_type": "stream",
     "text": [
      "[ 0.  1.  2.  3.  4.  5.  6.  7.  8.  9. 10. 11.]\n"
     ]
    }
   ],
   "source": [
    "def NcheckArray(arr,i):  \n",
    "    flag = True\n",
    "    if len(arr)==0 or arr[-1]<i:\n",
    "        #print(arr)\n",
    "        arr = np.append(arr,i)\n",
    "        #print(arr)\n",
    "        \n",
    "    else:\n",
    "        #print('aflse')\n",
    "        flag = False\n",
    "    return flag,arr\n",
    "\n",
    "e = np.empty(0)\n",
    "for i in data:\n",
    "    \n",
    "    e = NcheckArray(e,i)\n",
    "print(e)"
   ]
  },
  {
   "cell_type": "code",
   "execution_count": 258,
   "metadata": {},
   "outputs": [],
   "source": [
    "def longestRisingMonths(data):\n",
    "    \n",
    "    #print(data)\n",
    "    \n",
    "    def checkArray(arr,item):\n",
    "        flag = True\n",
    "        if arr.size == 0 or arr[-1]<item:\n",
    "            arr = np.append(arr,item)\n",
    "        else:\n",
    "            flag = False\n",
    "        return flag, arr\n",
    "\n",
    "    dp = [np.empty(0)]\n",
    "    for i,item in enumerate(data):    \n",
    "        flag, dp[-1] = checkArray(dp[-1],item)        \n",
    "        #rst = dp[-1].size\n",
    "        #print(dp)\n",
    "        #rst_1 = dp[-1].size if dp[-1] else False\n",
    "        if not flag or i==len(data)-1:\n",
    "            #print('break ponit --->',item)\n",
    "            #print(dp)\n",
    "            if len(dp) == 1:\n",
    "                #print('check1')\n",
    "                #dp.append(np.array(item))\n",
    "                dp.append(np.array([item]))\n",
    "                #print(dp)\n",
    "                continue\n",
    "            elif len(dp) == 2 and dp[0].size > dp[1].size:\n",
    "                #print('check2')\n",
    "                dp.pop()\n",
    "                #dp = np.append(dp,np.array(item))\n",
    "                dp.append(np.array([item]))\n",
    "                #print(dp)\n",
    "                #print('check2')\n",
    "                continue\n",
    "            else:\n",
    "                #print('check3')\n",
    "                dp[0] = dp[1]\n",
    "                dp.pop()\n",
    "                dp.append(np.array([item]))\n",
    "                #print(dp)\n",
    "    if len(dp) == 2 and len(dp[0]) >= len(dp[1]):\n",
    "        dp.pop()\n",
    "    return len(dp[0])"
   ]
  },
  {
   "cell_type": "code",
   "execution_count": 259,
   "metadata": {},
   "outputs": [
    {
     "data": {
      "text/html": [
       "<div>\n",
       "<style scoped>\n",
       "    .dataframe tbody tr th:only-of-type {\n",
       "        vertical-align: middle;\n",
       "    }\n",
       "\n",
       "    .dataframe tbody tr th {\n",
       "        vertical-align: top;\n",
       "    }\n",
       "\n",
       "    .dataframe thead th {\n",
       "        text-align: right;\n",
       "    }\n",
       "</style>\n",
       "<table border=\"1\" class=\"dataframe\">\n",
       "  <thead>\n",
       "    <tr style=\"text-align: right;\">\n",
       "      <th></th>\n",
       "      <th>0</th>\n",
       "      <th>1</th>\n",
       "      <th>2</th>\n",
       "    </tr>\n",
       "  </thead>\n",
       "  <tbody>\n",
       "    <tr>\n",
       "      <th>0</th>\n",
       "      <td>0.569953</td>\n",
       "      <td>0.051518</td>\n",
       "      <td>0.455036</td>\n",
       "    </tr>\n",
       "    <tr>\n",
       "      <th>1</th>\n",
       "      <td>0.424419</td>\n",
       "      <td>0.091837</td>\n",
       "      <td>0.235047</td>\n",
       "    </tr>\n",
       "    <tr>\n",
       "      <th>2</th>\n",
       "      <td>0.561254</td>\n",
       "      <td>0.483366</td>\n",
       "      <td>0.600704</td>\n",
       "    </tr>\n",
       "    <tr>\n",
       "      <th>3</th>\n",
       "      <td>0.073074</td>\n",
       "      <td>0.457472</td>\n",
       "      <td>0.222524</td>\n",
       "    </tr>\n",
       "    <tr>\n",
       "      <th>4</th>\n",
       "      <td>0.797417</td>\n",
       "      <td>0.413782</td>\n",
       "      <td>0.967231</td>\n",
       "    </tr>\n",
       "    <tr>\n",
       "      <th>5</th>\n",
       "      <td>0.274347</td>\n",
       "      <td>0.397613</td>\n",
       "      <td>0.369039</td>\n",
       "    </tr>\n",
       "    <tr>\n",
       "      <th>6</th>\n",
       "      <td>0.577057</td>\n",
       "      <td>0.917296</td>\n",
       "      <td>0.877587</td>\n",
       "    </tr>\n",
       "    <tr>\n",
       "      <th>7</th>\n",
       "      <td>0.813558</td>\n",
       "      <td>0.980627</td>\n",
       "      <td>0.496341</td>\n",
       "    </tr>\n",
       "    <tr>\n",
       "      <th>8</th>\n",
       "      <td>0.684748</td>\n",
       "      <td>0.457909</td>\n",
       "      <td>0.995659</td>\n",
       "    </tr>\n",
       "    <tr>\n",
       "      <th>9</th>\n",
       "      <td>0.249262</td>\n",
       "      <td>0.310296</td>\n",
       "      <td>0.149910</td>\n",
       "    </tr>\n",
       "    <tr>\n",
       "      <th>10</th>\n",
       "      <td>0.152163</td>\n",
       "      <td>0.307394</td>\n",
       "      <td>0.537243</td>\n",
       "    </tr>\n",
       "    <tr>\n",
       "      <th>11</th>\n",
       "      <td>0.366674</td>\n",
       "      <td>0.076995</td>\n",
       "      <td>0.383119</td>\n",
       "    </tr>\n",
       "    <tr>\n",
       "      <th>12</th>\n",
       "      <td>0.373947</td>\n",
       "      <td>0.217525</td>\n",
       "      <td>0.532857</td>\n",
       "    </tr>\n",
       "    <tr>\n",
       "      <th>13</th>\n",
       "      <td>0.347813</td>\n",
       "      <td>0.926887</td>\n",
       "      <td>0.006892</td>\n",
       "    </tr>\n",
       "    <tr>\n",
       "      <th>14</th>\n",
       "      <td>0.617812</td>\n",
       "      <td>0.225902</td>\n",
       "      <td>0.619073</td>\n",
       "    </tr>\n",
       "    <tr>\n",
       "      <th>15</th>\n",
       "      <td>0.713171</td>\n",
       "      <td>0.497711</td>\n",
       "      <td>0.534335</td>\n",
       "    </tr>\n",
       "    <tr>\n",
       "      <th>16</th>\n",
       "      <td>0.686851</td>\n",
       "      <td>0.185676</td>\n",
       "      <td>0.457476</td>\n",
       "    </tr>\n",
       "    <tr>\n",
       "      <th>17</th>\n",
       "      <td>0.417560</td>\n",
       "      <td>0.858723</td>\n",
       "      <td>0.552149</td>\n",
       "    </tr>\n",
       "    <tr>\n",
       "      <th>18</th>\n",
       "      <td>0.521670</td>\n",
       "      <td>0.759018</td>\n",
       "      <td>0.137918</td>\n",
       "    </tr>\n",
       "    <tr>\n",
       "      <th>19</th>\n",
       "      <td>0.019140</td>\n",
       "      <td>0.529023</td>\n",
       "      <td>0.466812</td>\n",
       "    </tr>\n",
       "  </tbody>\n",
       "</table>\n",
       "</div>"
      ],
      "text/plain": [
       "           0         1         2\n",
       "0   0.569953  0.051518  0.455036\n",
       "1   0.424419  0.091837  0.235047\n",
       "2   0.561254  0.483366  0.600704\n",
       "3   0.073074  0.457472  0.222524\n",
       "4   0.797417  0.413782  0.967231\n",
       "5   0.274347  0.397613  0.369039\n",
       "6   0.577057  0.917296  0.877587\n",
       "7   0.813558  0.980627  0.496341\n",
       "8   0.684748  0.457909  0.995659\n",
       "9   0.249262  0.310296  0.149910\n",
       "10  0.152163  0.307394  0.537243\n",
       "11  0.366674  0.076995  0.383119\n",
       "12  0.373947  0.217525  0.532857\n",
       "13  0.347813  0.926887  0.006892\n",
       "14  0.617812  0.225902  0.619073\n",
       "15  0.713171  0.497711  0.534335\n",
       "16  0.686851  0.185676  0.457476\n",
       "17  0.417560  0.858723  0.552149\n",
       "18  0.521670  0.759018  0.137918\n",
       "19  0.019140  0.529023  0.466812"
      ]
     },
     "execution_count": 259,
     "metadata": {},
     "output_type": "execute_result"
    }
   ],
   "source": [
    "df = pd.DataFrame(np.random.rand(20,3))\n",
    "df"
   ]
  },
  {
   "cell_type": "code",
   "execution_count": 260,
   "metadata": {},
   "outputs": [],
   "source": [
    "dd = df.apply(longestRisingMonths,axis=0)"
   ]
  },
  {
   "cell_type": "code",
   "execution_count": 261,
   "metadata": {},
   "outputs": [
    {
     "data": {
      "text/plain": [
       "0    3\n",
       "1    3\n",
       "2    2\n",
       "dtype: int64"
      ]
     },
     "execution_count": 261,
     "metadata": {},
     "output_type": "execute_result"
    }
   ],
   "source": [
    "dd"
   ]
  }
 ],
 "metadata": {
  "kernelspec": {
   "display_name": "Python [conda env:py36]",
   "language": "python",
   "name": "conda-env-py36-py"
  },
  "language_info": {
   "codemirror_mode": {
    "name": "ipython",
    "version": 3
   },
   "file_extension": ".py",
   "mimetype": "text/x-python",
   "name": "python",
   "nbconvert_exporter": "python",
   "pygments_lexer": "ipython3",
   "version": "3.6.7"
  },
  "varInspector": {
   "cols": {
    "lenName": 16,
    "lenType": 16,
    "lenVar": 40
   },
   "kernels_config": {
    "python": {
     "delete_cmd_postfix": "",
     "delete_cmd_prefix": "del ",
     "library": "var_list.py",
     "varRefreshCmd": "print(var_dic_list())"
    },
    "r": {
     "delete_cmd_postfix": ") ",
     "delete_cmd_prefix": "rm(",
     "library": "var_list.r",
     "varRefreshCmd": "cat(var_dic_list()) "
    }
   },
   "types_to_exclude": [
    "module",
    "function",
    "builtin_function_or_method",
    "instance",
    "_Feature"
   ],
   "window_display": false
  }
 },
 "nbformat": 4,
 "nbformat_minor": 2
}
