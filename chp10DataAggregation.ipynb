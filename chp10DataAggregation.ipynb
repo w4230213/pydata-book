{
 "cells": [
  {
   "cell_type": "code",
   "execution_count": 1,
   "metadata": {},
   "outputs": [
    {
     "name": "stdout",
     "output_type": "stream",
     "text": [
      "importing Jupyter notebook from utils.ipynb\n"
     ]
    }
   ],
   "source": [
    "import numpy as np\n",
    "import pandas as pd\n",
    "import import_ipynb\n",
    "from utils import show"
   ]
  },
  {
   "cell_type": "code",
   "execution_count": 2,
   "metadata": {},
   "outputs": [
    {
     "data": {
      "text/html": [
       "<div>\n",
       "<style scoped>\n",
       "    .dataframe tbody tr th:only-of-type {\n",
       "        vertical-align: middle;\n",
       "    }\n",
       "\n",
       "    .dataframe tbody tr th {\n",
       "        vertical-align: top;\n",
       "    }\n",
       "\n",
       "    .dataframe thead th {\n",
       "        text-align: right;\n",
       "    }\n",
       "</style>\n",
       "<table border=\"1\" class=\"dataframe\">\n",
       "  <thead>\n",
       "    <tr style=\"text-align: right;\">\n",
       "      <th></th>\n",
       "      <th>key1</th>\n",
       "      <th>key2</th>\n",
       "      <th>data1</th>\n",
       "      <th>data2</th>\n",
       "    </tr>\n",
       "  </thead>\n",
       "  <tbody>\n",
       "    <tr>\n",
       "      <th>0</th>\n",
       "      <td>a</td>\n",
       "      <td>one</td>\n",
       "      <td>-0.945559</td>\n",
       "      <td>0.978327</td>\n",
       "    </tr>\n",
       "    <tr>\n",
       "      <th>1</th>\n",
       "      <td>a</td>\n",
       "      <td>two</td>\n",
       "      <td>0.945257</td>\n",
       "      <td>-1.484599</td>\n",
       "    </tr>\n",
       "    <tr>\n",
       "      <th>2</th>\n",
       "      <td>b</td>\n",
       "      <td>one</td>\n",
       "      <td>0.752178</td>\n",
       "      <td>0.261085</td>\n",
       "    </tr>\n",
       "    <tr>\n",
       "      <th>3</th>\n",
       "      <td>b</td>\n",
       "      <td>two</td>\n",
       "      <td>-1.078760</td>\n",
       "      <td>1.046072</td>\n",
       "    </tr>\n",
       "    <tr>\n",
       "      <th>4</th>\n",
       "      <td>a</td>\n",
       "      <td>one</td>\n",
       "      <td>-0.105603</td>\n",
       "      <td>-0.833717</td>\n",
       "    </tr>\n",
       "  </tbody>\n",
       "</table>\n",
       "</div>"
      ],
      "text/plain": [
       "  key1 key2     data1     data2\n",
       "0    a  one -0.945559  0.978327\n",
       "1    a  two  0.945257 -1.484599\n",
       "2    b  one  0.752178  0.261085\n",
       "3    b  two -1.078760  1.046072\n",
       "4    a  one -0.105603 -0.833717"
      ]
     },
     "execution_count": 2,
     "metadata": {},
     "output_type": "execute_result"
    }
   ],
   "source": [
    "df = pd.DataFrame({'key1':list('aabba'),\n",
    "                   'key2':['one','two','one','two','one'],\n",
    "                   'data1':np.random.randn(5),\n",
    "                   'data2':np.random.randn(5)})\n",
    "df"
   ]
  },
  {
   "cell_type": "code",
   "execution_count": 3,
   "metadata": {},
   "outputs": [
    {
     "data": {
      "text/plain": [
       "<pandas.core.groupby.generic.SeriesGroupBy object at 0x10ecdf668>"
      ]
     },
     "execution_count": 3,
     "metadata": {},
     "output_type": "execute_result"
    }
   ],
   "source": [
    "grouped = df['data1'].groupby(df['key1'])\n",
    "grouped"
   ]
  },
  {
   "cell_type": "code",
   "execution_count": 6,
   "metadata": {},
   "outputs": [
    {
     "data": {
      "text/html": [
       "<div>\n",
       "<style scoped>\n",
       "    .dataframe tbody tr th:only-of-type {\n",
       "        vertical-align: middle;\n",
       "    }\n",
       "\n",
       "    .dataframe tbody tr th {\n",
       "        vertical-align: top;\n",
       "    }\n",
       "\n",
       "    .dataframe thead th {\n",
       "        text-align: right;\n",
       "    }\n",
       "</style>\n",
       "<table border=\"1\" class=\"dataframe\">\n",
       "  <thead>\n",
       "    <tr style=\"text-align: right;\">\n",
       "      <th></th>\n",
       "      <th>0</th>\n",
       "      <th>1</th>\n",
       "      <th>2</th>\n",
       "      <th>3</th>\n",
       "    </tr>\n",
       "  </thead>\n",
       "  <tbody>\n",
       "    <tr>\n",
       "      <th>0</th>\n",
       "      <td>0</td>\n",
       "      <td>1</td>\n",
       "      <td>2</td>\n",
       "      <td>3</td>\n",
       "    </tr>\n",
       "    <tr>\n",
       "      <th>1</th>\n",
       "      <td>4</td>\n",
       "      <td>5</td>\n",
       "      <td>6</td>\n",
       "      <td>7</td>\n",
       "    </tr>\n",
       "    <tr>\n",
       "      <th>2</th>\n",
       "      <td>8</td>\n",
       "      <td>9</td>\n",
       "      <td>10</td>\n",
       "      <td>11</td>\n",
       "    </tr>\n",
       "  </tbody>\n",
       "</table>\n",
       "</div>"
      ],
      "text/plain": [
       "   0  1   2   3\n",
       "0  0  1   2   3\n",
       "1  4  5   6   7\n",
       "2  8  9  10  11"
      ]
     },
     "execution_count": 6,
     "metadata": {},
     "output_type": "execute_result"
    }
   ],
   "source": [
    "df = pd.DataFrame(np.arange(12).reshape((3,4)))\n",
    "df"
   ]
  },
  {
   "cell_type": "code",
   "execution_count": 9,
   "metadata": {},
   "outputs": [
    {
     "name": "stdout",
     "output_type": "stream",
     "text": [
      "<class 'numpy.ndarray'>\n",
      "--------------------\n",
      "[[ 0  1  2  3]\n",
      " [ 4  5  6  7]\n",
      " [ 8  9 10 11]]\n"
     ]
    }
   ],
   "source": [
    "arr = df.values\n",
    "show(arr)"
   ]
  },
  {
   "cell_type": "code",
   "execution_count": 10,
   "metadata": {},
   "outputs": [
    {
     "name": "stdout",
     "output_type": "stream",
     "text": [
      "<class 'pandas.core.frame.DataFrame'>\n",
      "--------------------\n",
      "   0   1    2    3\n",
      "0  0   1    2    3\n",
      "1  0   5   12   21\n",
      "2  0  45  120  231\n"
     ]
    }
   ],
   "source": [
    "df.values[:] = arr.cumprod(axis=0)\n",
    "show(df)"
   ]
  },
  {
   "cell_type": "code",
   "execution_count": 12,
   "metadata": {},
   "outputs": [
    {
     "name": "stdout",
     "output_type": "stream",
     "text": [
      "<class 'numpy.ndarray'>\n",
      "--------------------\n",
      "[[2. 2. 2. 2.]\n",
      " [2. 2. 2. 2.]\n",
      " [2. 2. 2. 2.]\n",
      " [2. 2. 2. 2.]]\n"
     ]
    }
   ],
   "source": [
    "arr = np.ones((4,4)) * 2.\n",
    "show(arr)"
   ]
  },
  {
   "cell_type": "code",
   "execution_count": 13,
   "metadata": {},
   "outputs": [
    {
     "data": {
      "text/plain": [
       "array([[ 2.,  2.,  2.,  2.],\n",
       "       [ 4.,  4.,  4.,  4.],\n",
       "       [ 8.,  8.,  8.,  8.],\n",
       "       [16., 16., 16., 16.]])"
      ]
     },
     "execution_count": 13,
     "metadata": {},
     "output_type": "execute_result"
    }
   ],
   "source": [
    "arr.cumprod(axis=0)"
   ]
  },
  {
   "cell_type": "code",
   "execution_count": 18,
   "metadata": {},
   "outputs": [],
   "source": [
    "df = pd.DataFrame(np.random.randn(20,12))\n"
   ]
  },
  {
   "cell_type": "code",
   "execution_count": 20,
   "metadata": {},
   "outputs": [],
   "source": [
    "index = np.arange(0,22,2)"
   ]
  },
  {
   "cell_type": "code",
   "execution_count": 24,
   "metadata": {},
   "outputs": [
    {
     "data": {
      "text/plain": [
       "array([ 0,  2, 12, 14, 16, 20])"
      ]
     },
     "execution_count": 24,
     "metadata": {},
     "output_type": "execute_result"
    }
   ],
   "source": [
    "index[index.searchsorted([1,2,13,15,16,21],side='right') - 1]"
   ]
  },
  {
   "cell_type": "code",
   "execution_count": 269,
   "metadata": {},
   "outputs": [],
   "source": [
    "data = np.array([1,2,3,4,4,5,2,5,6,7,8,11,21,23,24,25,3,8,9,11,21,21,22,23,45,56,77,88,100,101,3])"
   ]
  },
  {
   "cell_type": "code",
   "execution_count": 270,
   "metadata": {},
   "outputs": [
    {
     "name": "stdout",
     "output_type": "stream",
     "text": [
      "[  1   2   3   4   4   5   2   5   6   7   8  11  21  23  24  25   3   8\n",
      "   9  11  21  21  22  23  45  56  77  88 100 101   3]\n",
      "break ponit ---> 4\n",
      "[[1, 2, 3, 4]]\n",
      "check1\n",
      "[[1, 2, 3, 4], [4]]\n",
      "break ponit ---> 2\n",
      "[[1, 2, 3, 4], [4, 5]]\n",
      "check2\n",
      "[[1, 2, 3, 4], [2]]\n",
      "break ponit ---> 3\n",
      "[[1, 2, 3, 4], [2, 5, 6, 7, 8, 11, 21, 23, 24, 25]]\n",
      "check3\n",
      "[[2, 5, 6, 7, 8, 11, 21, 23, 24, 25], [3]]\n",
      "break ponit ---> 21\n",
      "[[2, 5, 6, 7, 8, 11, 21, 23, 24, 25], [3, 8, 9, 11, 21]]\n",
      "check2\n",
      "[[2, 5, 6, 7, 8, 11, 21, 23, 24, 25], [21]]\n",
      "break ponit ---> 3\n",
      "[[2, 5, 6, 7, 8, 11, 21, 23, 24, 25], [21, 22, 23, 45, 56, 77, 88, 100, 101]]\n",
      "check2\n",
      "[[2, 5, 6, 7, 8, 11, 21, 23, 24, 25], [3]]\n",
      "----------------------------\n",
      "[[2, 5, 6, 7, 8, 11, 21, 23, 24, 25]]\n"
     ]
    }
   ],
   "source": [
    "print(data)\n",
    "def checkArray(arr,item):\n",
    "    #arr = []\n",
    "    if len(arr)==0 or arr[-1]<item:\n",
    "        #arr = np.append(arr,item)\n",
    "        arr.append(item)\n",
    "    else:\n",
    "        return False\n",
    "    return len(arr)\n",
    "\n",
    "dp = [[]]\n",
    "for i,item in enumerate(data):    \n",
    "    rst_1 = checkArray(dp[-1],item)\n",
    "    #print(dp)\n",
    "    if not rst_1 or i==len(data)-1:\n",
    "        print('break ponit --->',item)\n",
    "        print(dp)\n",
    "        if len(dp) == 1:\n",
    "            print('check1')\n",
    "            dp.append([item])\n",
    "            print(dp)\n",
    "            #dp = np.append(dp,np.array(item))\n",
    "            continue\n",
    "        elif len(dp) >= 2 and len(dp[0]) > len(dp[-1]):\n",
    "            print('check2')\n",
    "            #dp = np.delete(dp,1)\n",
    "            #dp = np.append(dp,np.array(item))\n",
    "            dp.pop()\n",
    "            dp.append([item])\n",
    "            print(dp)\n",
    "            continue\n",
    "        elif len(dp) >= 2 and len(dp[0]) == len(dp[-1]):\n",
    "            dp.append([item])\n",
    "            continue\n",
    "        else:\n",
    "            print('check3')\n",
    "            dp = [dp[-1]]\n",
    "            dp.append([item])\n",
    "            print(dp)\n",
    "if len(dp) >= 2 and len(dp[0]) >= len(dp[-1]):\n",
    "    dp.pop()\n",
    "print('----'*7)\n",
    "print(dp)\n",
    "#print(dp)\n",
    "                #dp = dp.delete(dp,1)\n",
    "    #return dp[0], dp[0].size\n"
   ]
  },
  {
   "cell_type": "code",
   "execution_count": 160,
   "metadata": {},
   "outputs": [
    {
     "name": "stdout",
     "output_type": "stream",
     "text": [
      "[ 0.  1.  2.  3.  4.  5.  6.  7.  8.  9. 10. 11.]\n"
     ]
    }
   ],
   "source": [
    "def NcheckArray(arr,i):  \n",
    "    flag = True\n",
    "    if len(arr)==0 or arr[-1]<i:\n",
    "        #print(arr)\n",
    "        arr = np.append(arr,i)\n",
    "        #print(arr)\n",
    "        \n",
    "    else:\n",
    "        #print('aflse')\n",
    "        flag = False\n",
    "    return flag,arr\n",
    "\n",
    "e = np.empty(0)\n",
    "for i in data:\n",
    "    \n",
    "    e = NcheckArray(e,i)\n",
    "print(e)"
   ]
  },
  {
   "cell_type": "code",
   "execution_count": 290,
   "metadata": {},
   "outputs": [
    {
     "data": {
      "text/html": [
       "<div>\n",
       "<style scoped>\n",
       "    .dataframe tbody tr th:only-of-type {\n",
       "        vertical-align: middle;\n",
       "    }\n",
       "\n",
       "    .dataframe tbody tr th {\n",
       "        vertical-align: top;\n",
       "    }\n",
       "\n",
       "    .dataframe thead th {\n",
       "        text-align: right;\n",
       "    }\n",
       "</style>\n",
       "<table border=\"1\" class=\"dataframe\">\n",
       "  <thead>\n",
       "    <tr style=\"text-align: right;\">\n",
       "      <th></th>\n",
       "      <th>0</th>\n",
       "      <th>1</th>\n",
       "      <th>2</th>\n",
       "    </tr>\n",
       "  </thead>\n",
       "  <tbody>\n",
       "    <tr>\n",
       "      <th>0</th>\n",
       "      <td>0.427837</td>\n",
       "      <td>0.024057</td>\n",
       "      <td>0.257237</td>\n",
       "    </tr>\n",
       "    <tr>\n",
       "      <th>1</th>\n",
       "      <td>0.340963</td>\n",
       "      <td>0.947700</td>\n",
       "      <td>0.171957</td>\n",
       "    </tr>\n",
       "    <tr>\n",
       "      <th>2</th>\n",
       "      <td>0.864447</td>\n",
       "      <td>0.918276</td>\n",
       "      <td>0.920881</td>\n",
       "    </tr>\n",
       "    <tr>\n",
       "      <th>3</th>\n",
       "      <td>0.500243</td>\n",
       "      <td>0.613480</td>\n",
       "      <td>0.469033</td>\n",
       "    </tr>\n",
       "    <tr>\n",
       "      <th>4</th>\n",
       "      <td>0.029446</td>\n",
       "      <td>0.329010</td>\n",
       "      <td>0.133331</td>\n",
       "    </tr>\n",
       "    <tr>\n",
       "      <th>5</th>\n",
       "      <td>0.140901</td>\n",
       "      <td>0.100676</td>\n",
       "      <td>0.102415</td>\n",
       "    </tr>\n",
       "    <tr>\n",
       "      <th>6</th>\n",
       "      <td>0.413597</td>\n",
       "      <td>0.345316</td>\n",
       "      <td>0.831204</td>\n",
       "    </tr>\n",
       "    <tr>\n",
       "      <th>7</th>\n",
       "      <td>0.411025</td>\n",
       "      <td>0.656960</td>\n",
       "      <td>0.360292</td>\n",
       "    </tr>\n",
       "    <tr>\n",
       "      <th>8</th>\n",
       "      <td>0.147237</td>\n",
       "      <td>0.739474</td>\n",
       "      <td>0.736568</td>\n",
       "    </tr>\n",
       "    <tr>\n",
       "      <th>9</th>\n",
       "      <td>0.432199</td>\n",
       "      <td>0.896934</td>\n",
       "      <td>0.038964</td>\n",
       "    </tr>\n",
       "    <tr>\n",
       "      <th>10</th>\n",
       "      <td>0.765190</td>\n",
       "      <td>0.326881</td>\n",
       "      <td>0.976921</td>\n",
       "    </tr>\n",
       "    <tr>\n",
       "      <th>11</th>\n",
       "      <td>0.989530</td>\n",
       "      <td>0.056919</td>\n",
       "      <td>0.253299</td>\n",
       "    </tr>\n",
       "    <tr>\n",
       "      <th>12</th>\n",
       "      <td>0.606848</td>\n",
       "      <td>0.368215</td>\n",
       "      <td>0.146831</td>\n",
       "    </tr>\n",
       "    <tr>\n",
       "      <th>13</th>\n",
       "      <td>0.626700</td>\n",
       "      <td>0.138316</td>\n",
       "      <td>0.375722</td>\n",
       "    </tr>\n",
       "    <tr>\n",
       "      <th>14</th>\n",
       "      <td>0.748014</td>\n",
       "      <td>0.625270</td>\n",
       "      <td>0.230577</td>\n",
       "    </tr>\n",
       "    <tr>\n",
       "      <th>15</th>\n",
       "      <td>0.576773</td>\n",
       "      <td>0.523323</td>\n",
       "      <td>0.796868</td>\n",
       "    </tr>\n",
       "    <tr>\n",
       "      <th>16</th>\n",
       "      <td>0.662801</td>\n",
       "      <td>0.045576</td>\n",
       "      <td>0.393394</td>\n",
       "    </tr>\n",
       "    <tr>\n",
       "      <th>17</th>\n",
       "      <td>0.746752</td>\n",
       "      <td>0.734019</td>\n",
       "      <td>0.486446</td>\n",
       "    </tr>\n",
       "    <tr>\n",
       "      <th>18</th>\n",
       "      <td>0.807752</td>\n",
       "      <td>0.969609</td>\n",
       "      <td>0.478255</td>\n",
       "    </tr>\n",
       "    <tr>\n",
       "      <th>19</th>\n",
       "      <td>0.161075</td>\n",
       "      <td>0.897647</td>\n",
       "      <td>0.096051</td>\n",
       "    </tr>\n",
       "  </tbody>\n",
       "</table>\n",
       "</div>"
      ],
      "text/plain": [
       "           0         1         2\n",
       "0   0.427837  0.024057  0.257237\n",
       "1   0.340963  0.947700  0.171957\n",
       "2   0.864447  0.918276  0.920881\n",
       "3   0.500243  0.613480  0.469033\n",
       "4   0.029446  0.329010  0.133331\n",
       "5   0.140901  0.100676  0.102415\n",
       "6   0.413597  0.345316  0.831204\n",
       "7   0.411025  0.656960  0.360292\n",
       "8   0.147237  0.739474  0.736568\n",
       "9   0.432199  0.896934  0.038964\n",
       "10  0.765190  0.326881  0.976921\n",
       "11  0.989530  0.056919  0.253299\n",
       "12  0.606848  0.368215  0.146831\n",
       "13  0.626700  0.138316  0.375722\n",
       "14  0.748014  0.625270  0.230577\n",
       "15  0.576773  0.523323  0.796868\n",
       "16  0.662801  0.045576  0.393394\n",
       "17  0.746752  0.734019  0.486446\n",
       "18  0.807752  0.969609  0.478255\n",
       "19  0.161075  0.897647  0.096051"
      ]
     },
     "execution_count": 290,
     "metadata": {},
     "output_type": "execute_result"
    }
   ],
   "source": [
    "df = pd.DataFrame(np.random.rand(20,3))\n",
    "df"
   ]
  },
  {
   "cell_type": "code",
   "execution_count": 293,
   "metadata": {},
   "outputs": [],
   "source": [
    "def longestRisingMonths(data):\n",
    "    \n",
    "    #print(data)\n",
    "    \n",
    "    def checkArray(arr,item):\n",
    "        flag = True\n",
    "        if arr.size == 0 or arr[-1]<item:\n",
    "            arr = np.append(arr,item)\n",
    "        else:\n",
    "            flag = False\n",
    "        return flag, arr\n",
    "\n",
    "    dp = [np.empty(0)]\n",
    "    for i,item in enumerate(data):    \n",
    "        flag, dp[-1] = checkArray(dp[-1],item)        \n",
    "        #rst = dp[-1].size\n",
    "        #print(dp)\n",
    "        #rst_1 = dp[-1].size if dp[-1] else False\n",
    "        if not flag or i==len(data)-1:\n",
    "            #print('break ponit --->',item)\n",
    "            #print(dp)\n",
    "            if len(dp) == 1:\n",
    "                #print('check1')\n",
    "                #dp.append(np.array(item))\n",
    "                dp.append(np.array([item]))\n",
    "                #print(dp)\n",
    "                continue\n",
    "            elif len(dp) >= 2 and dp[0].size > dp[-1].size:\n",
    "                #print('check2')\n",
    "                dp.pop()\n",
    "                #dp = np.append(dp,np.array(item))\n",
    "                dp.append(np.array([item]))\n",
    "                #print(dp)\n",
    "                #print('check2')\n",
    "                continue\n",
    "            elif len(dp) >= 2 and dp[0].size == dp[-1].size:\n",
    "                dp.append(np.array([item]))\n",
    "                continue\n",
    "            else:\n",
    "                #print('check3')\n",
    "                dp = [dp[-1]]\n",
    "                dp.append(np.array([item]))\n",
    "                #print(dp)\n",
    "    if len(dp) >= 2 and dp[0].size >= dp[-1].size:\n",
    "        dp.pop()\n",
    "    return dp"
   ]
  },
  {
   "cell_type": "code",
   "execution_count": 294,
   "metadata": {},
   "outputs": [],
   "source": [
    "dd = df.apply(longestRisingMonths,axis=0)"
   ]
  },
  {
   "cell_type": "code",
   "execution_count": 322,
   "metadata": {},
   "outputs": [
    {
     "name": "stdout",
     "output_type": "stream",
     "text": [
      "<class 'pandas.core.series.Series'>\n",
      "--------------------\n",
      "0    [[0.14723677785743938, 0.43219913675882005, 0....\n",
      "1    [[0.10067592102571021, 0.34531552056922366, 0....\n",
      "2    [[0.1719568398565704, 0.9208810718172975], [0....\n",
      "dtype: object\n",
      "<class 'list'>\n",
      "--------------------\n",
      "[array([0.14723678, 0.43219914, 0.76519012, 0.9895302 ]), array([0.57677294, 0.66280095, 0.74675192, 0.80775213])]\n",
      "<class 'numpy.ndarray'>\n",
      "--------------------\n",
      "[0.14723678 0.43219914 0.76519012 0.9895302 ]\n"
     ]
    }
   ],
   "source": [
    "show(dd)\n",
    "show(dd[0])\n",
    "show(dd[0][0])"
   ]
  },
  {
   "cell_type": "code",
   "execution_count": 396,
   "metadata": {},
   "outputs": [
    {
     "name": "stdout",
     "output_type": "stream",
     "text": [
      "<class 'numpy.ndarray'>\n",
      "--------------------\n",
      "[1 2 3]\n"
     ]
    }
   ],
   "source": [
    "_aa = np.array([1,2,3])\n",
    "show(_aa)"
   ]
  },
  {
   "cell_type": "code",
   "execution_count": 397,
   "metadata": {},
   "outputs": [
    {
     "ename": "ValueError",
     "evalue": "all the input array dimensions except for the concatenation axis must match exactly",
     "output_type": "error",
     "traceback": [
      "\u001b[0;31m---------------------------------------------------------------------------\u001b[0m",
      "\u001b[0;31mValueError\u001b[0m                                Traceback (most recent call last)",
      "\u001b[0;32m<ipython-input-397-4f7be5d7c25d>\u001b[0m in \u001b[0;36m<module>\u001b[0;34m\u001b[0m\n\u001b[0;32m----> 1\u001b[0;31m \u001b[0m_bb\u001b[0m \u001b[0;34m=\u001b[0m \u001b[0mnp\u001b[0m\u001b[0;34m.\u001b[0m\u001b[0mrow_stack\u001b[0m\u001b[0;34m(\u001b[0m\u001b[0;34m(\u001b[0m\u001b[0m_aa\u001b[0m\u001b[0;34m,\u001b[0m\u001b[0;34m[\u001b[0m\u001b[0;36m4\u001b[0m\u001b[0;34m,\u001b[0m\u001b[0;36m5\u001b[0m\u001b[0;34m]\u001b[0m\u001b[0;34m)\u001b[0m\u001b[0;34m)\u001b[0m\u001b[0;34m\u001b[0m\u001b[0;34m\u001b[0m\u001b[0m\n\u001b[0m\u001b[1;32m      2\u001b[0m \u001b[0mshow\u001b[0m\u001b[0;34m(\u001b[0m\u001b[0m_bb\u001b[0m\u001b[0;34m)\u001b[0m\u001b[0;34m\u001b[0m\u001b[0;34m\u001b[0m\u001b[0m\n",
      "\u001b[0;32m/anaconda3/envs/py36/lib/python3.6/site-packages/numpy/core/shape_base.py\u001b[0m in \u001b[0;36mvstack\u001b[0;34m(tup)\u001b[0m\n\u001b[1;32m    232\u001b[0m \u001b[0;34m\u001b[0m\u001b[0m\n\u001b[1;32m    233\u001b[0m     \"\"\"\n\u001b[0;32m--> 234\u001b[0;31m     \u001b[0;32mreturn\u001b[0m \u001b[0m_nx\u001b[0m\u001b[0;34m.\u001b[0m\u001b[0mconcatenate\u001b[0m\u001b[0;34m(\u001b[0m\u001b[0;34m[\u001b[0m\u001b[0matleast_2d\u001b[0m\u001b[0;34m(\u001b[0m\u001b[0m_m\u001b[0m\u001b[0;34m)\u001b[0m \u001b[0;32mfor\u001b[0m \u001b[0m_m\u001b[0m \u001b[0;32min\u001b[0m \u001b[0mtup\u001b[0m\u001b[0;34m]\u001b[0m\u001b[0;34m,\u001b[0m \u001b[0;36m0\u001b[0m\u001b[0;34m)\u001b[0m\u001b[0;34m\u001b[0m\u001b[0;34m\u001b[0m\u001b[0m\n\u001b[0m\u001b[1;32m    235\u001b[0m \u001b[0;34m\u001b[0m\u001b[0m\n\u001b[1;32m    236\u001b[0m \u001b[0;32mdef\u001b[0m \u001b[0mhstack\u001b[0m\u001b[0;34m(\u001b[0m\u001b[0mtup\u001b[0m\u001b[0;34m)\u001b[0m\u001b[0;34m:\u001b[0m\u001b[0;34m\u001b[0m\u001b[0;34m\u001b[0m\u001b[0m\n",
      "\u001b[0;31mValueError\u001b[0m: all the input array dimensions except for the concatenation axis must match exactly"
     ]
    }
   ],
   "source": [
    "_bb = np.row_stack((_aa,[4,5]))\n",
    "show(_bb)"
   ]
  },
  {
   "cell_type": "code",
   "execution_count": 307,
   "metadata": {},
   "outputs": [
    {
     "data": {
      "text/plain": [
       "array([[0.42783675, 0.02405728, 0.25723749],\n",
       "       [0.34096268, 0.94770018, 0.17195684],\n",
       "       [0.86444689, 0.91827614, 0.92088107],\n",
       "       [0.50024261, 0.61348039, 0.46903335],\n",
       "       [0.02944588, 0.32901038, 0.13333128],\n",
       "       [0.14090084, 0.10067592, 0.1024154 ],\n",
       "       [0.41359689, 0.34531552, 0.83120429],\n",
       "       [0.41102504, 0.65695977, 0.3602915 ],\n",
       "       [0.14723678, 0.73947432, 0.73656772],\n",
       "       [0.43219914, 0.89693439, 0.03896387],\n",
       "       [0.76519012, 0.32688057, 0.97692106],\n",
       "       [0.9895302 , 0.05691932, 0.25329867],\n",
       "       [0.60684754, 0.36821471, 0.14683052],\n",
       "       [0.62670048, 0.13831613, 0.37572161],\n",
       "       [0.74801398, 0.62527042, 0.23057689],\n",
       "       [0.57677294, 0.52332332, 0.7968681 ],\n",
       "       [0.66280095, 0.04557617, 0.39339369],\n",
       "       [0.74675192, 0.73401894, 0.48644575],\n",
       "       [0.80775213, 0.96960865, 0.47825483],\n",
       "       [0.16107467, 0.89764733, 0.09605113]])"
      ]
     },
     "execution_count": 307,
     "metadata": {},
     "output_type": "execute_result"
    }
   ],
   "source": [
    "vv = df.values\n",
    "vv"
   ]
  },
  {
   "cell_type": "code",
   "execution_count": 317,
   "metadata": {},
   "outputs": [
    {
     "data": {
      "text/plain": [
       "array([0.42783675, 0.34096268, 0.86444689, 0.50024261, 0.02944588,\n",
       "       0.14090084, 0.41359689, 0.41102504, 0.14723678, 0.43219914,\n",
       "       0.76519012, 0.9895302 , 0.60684754, 0.62670048, 0.74801398,\n",
       "       0.57677294, 0.66280095, 0.74675192, 0.80775213, 0.16107467])"
      ]
     },
     "execution_count": 317,
     "metadata": {},
     "output_type": "execute_result"
    }
   ],
   "source": [
    "vvt = vv.T[0]\n",
    "vvt"
   ]
  },
  {
   "cell_type": "code",
   "execution_count": 362,
   "metadata": {},
   "outputs": [
    {
     "data": {
      "text/plain": [
       "array([[[2.16969204e-314]],\n",
       "\n",
       "       [[2.16969204e-314]],\n",
       "\n",
       "       [[2.16969204e-314]]])"
      ]
     },
     "execution_count": 362,
     "metadata": {},
     "output_type": "execute_result"
    }
   ],
   "source": [
    "dp = np.empty((len(vv.T),1,1))\n",
    "dp\n"
   ]
  },
  {
   "cell_type": "code",
   "execution_count": 363,
   "metadata": {},
   "outputs": [
    {
     "name": "stdout",
     "output_type": "stream",
     "text": [
      "<class 'numpy.ndarray'>\n",
      "--------------------\n",
      "[2.16969204e-314]\n"
     ]
    }
   ],
   "source": [
    "show(dp[-1][-1])"
   ]
  },
  {
   "cell_type": "code",
   "execution_count": 365,
   "metadata": {},
   "outputs": [
    {
     "ename": "ValueError",
     "evalue": "setting an array element with a sequence.",
     "output_type": "error",
     "traceback": [
      "\u001b[0;31m---------------------------------------------------------------------------\u001b[0m",
      "\u001b[0;31mValueError\u001b[0m                                Traceback (most recent call last)",
      "\u001b[0;32m<ipython-input-365-8b13996c4bd5>\u001b[0m in \u001b[0;36m<module>\u001b[0;34m\u001b[0m\n\u001b[1;32m     11\u001b[0m     \u001b[0mfund_array\u001b[0m \u001b[0;34m=\u001b[0m \u001b[0mdp\u001b[0m\u001b[0;34m[\u001b[0m\u001b[0mfundidx\u001b[0m\u001b[0;34m]\u001b[0m\u001b[0;34m\u001b[0m\u001b[0;34m\u001b[0m\u001b[0m\n\u001b[1;32m     12\u001b[0m     \u001b[0;32mfor\u001b[0m \u001b[0mi\u001b[0m\u001b[0;34m,\u001b[0m \u001b[0mitem\u001b[0m \u001b[0;32min\u001b[0m \u001b[0menumerate\u001b[0m\u001b[0;34m(\u001b[0m\u001b[0mfund\u001b[0m\u001b[0;34m)\u001b[0m\u001b[0;34m:\u001b[0m\u001b[0;34m\u001b[0m\u001b[0;34m\u001b[0m\u001b[0m\n\u001b[0;32m---> 13\u001b[0;31m         \u001b[0mflag\u001b[0m\u001b[0;34m,\u001b[0m \u001b[0mfund_array\u001b[0m\u001b[0;34m[\u001b[0m\u001b[0;34m-\u001b[0m\u001b[0;36m1\u001b[0m\u001b[0;34m]\u001b[0m\u001b[0;34m[\u001b[0m\u001b[0;34m-\u001b[0m\u001b[0;36m1\u001b[0m\u001b[0;34m]\u001b[0m \u001b[0;34m=\u001b[0m \u001b[0m_checkArray\u001b[0m\u001b[0;34m(\u001b[0m\u001b[0mfund_array\u001b[0m\u001b[0;34m[\u001b[0m\u001b[0;34m-\u001b[0m\u001b[0;36m1\u001b[0m\u001b[0;34m]\u001b[0m\u001b[0;34m[\u001b[0m\u001b[0;34m-\u001b[0m\u001b[0;36m1\u001b[0m\u001b[0;34m]\u001b[0m\u001b[0;34m,\u001b[0m \u001b[0mitem\u001b[0m\u001b[0;34m)\u001b[0m\u001b[0;34m\u001b[0m\u001b[0;34m\u001b[0m\u001b[0m\n\u001b[0m\u001b[1;32m     14\u001b[0m         \u001b[0;31m#rst = dp[-1].size\u001b[0m\u001b[0;34m\u001b[0m\u001b[0;34m\u001b[0m\u001b[0;34m\u001b[0m\u001b[0m\n\u001b[1;32m     15\u001b[0m         \u001b[0;31m#print(dp)\u001b[0m\u001b[0;34m\u001b[0m\u001b[0;34m\u001b[0m\u001b[0;34m\u001b[0m\u001b[0m\n",
      "\u001b[0;31mValueError\u001b[0m: setting an array element with a sequence."
     ]
    }
   ],
   "source": [
    "def _checkArray(arr,item):\n",
    "    flag = True\n",
    "    if arr.size <= 1 or arr[-1] < item:\n",
    "        arr = np.append(arr,item)\n",
    "    else:\n",
    "        flag = False\n",
    "    return flag, arr\n",
    "\n",
    "dp = np.empty((len(vv.T),1,1))\n",
    "for fundidx, fund in enumerate(vv.T):\n",
    "    fund_array = dp[fundidx]\n",
    "    for i, item in enumerate(fund):\n",
    "        flag, fund_array[-1] = _checkArray(fund_array[-1], item)\n",
    "        #rst = dp[-1].size\n",
    "        #print(dp)\n",
    "        #rst_1 = dp[-1].size if dp[-1] else False\n",
    "        if not flag or i==len(fund)-1:\n",
    "            print('break ponit --->',item)\n",
    "            print(fund_array)\n",
    "            if len(fund_array) == 1:\n",
    "                print('check1')\n",
    "                #dp.append(np.array(item))\n",
    "                fund_array = np.row_stack((fund_array,item))\n",
    "                print(dp)\n",
    "                continue\n",
    "            elif len(fund_array) >= 2 and fund_array[0].size > fund_array[-1].size:\n",
    "                print('check2')\n",
    "                fund_array = fund_array[:-1]\n",
    "                fund_array = np.row_stack((fund_array,item))\n",
    "                print(fund_array)\n",
    "                continue\n",
    "            elif len(fund_array) >= 2 and fund_array[0].size == fund_array[-1].size:\n",
    "                print('check3')\n",
    "                fund_array = np.row_stack((fund_array,item))\n",
    "                continue\n",
    "            else:\n",
    "                print('check4')\n",
    "                fund_array = fund_array[-1]\n",
    "                fund_array = np.row_stack((fund_array,item))\n",
    "                print(fund_array)\n",
    "        "
   ]
  },
  {
   "cell_type": "code",
   "execution_count": 417,
   "metadata": {},
   "outputs": [],
   "source": [
    "dp = [np.empty(0)]"
   ]
  },
  {
   "cell_type": "code",
   "execution_count": 418,
   "metadata": {},
   "outputs": [
    {
     "data": {
      "text/plain": [
       "[array([], dtype=float64)]"
      ]
     },
     "execution_count": 418,
     "metadata": {},
     "output_type": "execute_result"
    }
   ],
   "source": [
    "dp"
   ]
  },
  {
   "cell_type": "code",
   "execution_count": 421,
   "metadata": {},
   "outputs": [
    {
     "data": {
      "text/plain": [
       "array([123., 123., 123.])"
      ]
     },
     "execution_count": 421,
     "metadata": {},
     "output_type": "execute_result"
    }
   ],
   "source": [
    "dp[-1] = np.append(dp[-1],np.array(123))\n",
    "dp[-1]"
   ]
  },
  {
   "cell_type": "code",
   "execution_count": 423,
   "metadata": {},
   "outputs": [
    {
     "data": {
      "text/plain": [
       "[]"
      ]
     },
     "execution_count": 423,
     "metadata": {},
     "output_type": "execute_result"
    }
   ],
   "source": [
    "dp = []\n",
    "dp"
   ]
  },
  {
   "cell_type": "code",
   "execution_count": 424,
   "metadata": {},
   "outputs": [
    {
     "data": {
      "text/plain": [
       "[array([], dtype=float64)]"
      ]
     },
     "execution_count": 424,
     "metadata": {},
     "output_type": "execute_result"
    }
   ],
   "source": [
    "dp.append(np.empty(0))\n",
    "dp"
   ]
  },
  {
   "cell_type": "code",
   "execution_count": 430,
   "metadata": {},
   "outputs": [
    {
     "data": {
      "text/plain": [
       "array([123.])"
      ]
     },
     "execution_count": 430,
     "metadata": {},
     "output_type": "execute_result"
    }
   ],
   "source": [
    "dp[-1] = np.append(dp[-1],np.array([123]))\n",
    "dp[-1]"
   ]
  },
  {
   "cell_type": "code",
   "execution_count": 429,
   "metadata": {},
   "outputs": [
    {
     "data": {
      "text/plain": [
       "[array([123., 123.]), array([], dtype=float64)]"
      ]
     },
     "execution_count": 429,
     "metadata": {},
     "output_type": "execute_result"
    }
   ],
   "source": [
    "dp.append(np.empty(0))\n",
    "dp"
   ]
  },
  {
   "cell_type": "code",
   "execution_count": 431,
   "metadata": {},
   "outputs": [
    {
     "data": {
      "text/plain": [
       "[array([123., 123.]), array([123.])]"
      ]
     },
     "execution_count": 431,
     "metadata": {},
     "output_type": "execute_result"
    }
   ],
   "source": [
    "dp"
   ]
  }
 ],
 "metadata": {
  "kernelspec": {
   "display_name": "Python [conda env:py36]",
   "language": "python",
   "name": "conda-env-py36-py"
  },
  "language_info": {
   "codemirror_mode": {
    "name": "ipython",
    "version": 3
   },
   "file_extension": ".py",
   "mimetype": "text/x-python",
   "name": "python",
   "nbconvert_exporter": "python",
   "pygments_lexer": "ipython3",
   "version": "3.6.7"
  },
  "varInspector": {
   "cols": {
    "lenName": 16,
    "lenType": 16,
    "lenVar": 40
   },
   "kernels_config": {
    "python": {
     "delete_cmd_postfix": "",
     "delete_cmd_prefix": "del ",
     "library": "var_list.py",
     "varRefreshCmd": "print(var_dic_list())"
    },
    "r": {
     "delete_cmd_postfix": ") ",
     "delete_cmd_prefix": "rm(",
     "library": "var_list.r",
     "varRefreshCmd": "cat(var_dic_list()) "
    }
   },
   "types_to_exclude": [
    "module",
    "function",
    "builtin_function_or_method",
    "instance",
    "_Feature"
   ],
   "window_display": false
  }
 },
 "nbformat": 4,
 "nbformat_minor": 2
}
