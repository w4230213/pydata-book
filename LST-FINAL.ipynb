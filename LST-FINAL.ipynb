{
 "cells": [
  {
   "cell_type": "code",
   "execution_count": 1,
   "metadata": {},
   "outputs": [
    {
     "name": "stdout",
     "output_type": "stream",
     "text": [
      "importing Jupyter notebook from utils.ipynb\n"
     ]
    }
   ],
   "source": [
    "import numpy as np\n",
    "import pandas as pd\n",
    "import import_ipynb\n",
    "from utils import show\n",
    "\n",
    "np.random.seed(12)"
   ]
  },
  {
   "cell_type": "code",
   "execution_count": 2,
   "metadata": {},
   "outputs": [],
   "source": [
    "def get_lst_range(data):\n",
    "    iszero = np.concatenate(([0],\n",
    "                             np.greater(data,0).view(np.int8),\n",
    "                            [0]))\n",
    "    absdiff = np.abs(np.diff(iszero))\n",
    "    lst_range = np.where(absdiff==1)[0].reshape(-1,2)\n",
    "    return lst_range"
   ]
  },
  {
   "cell_type": "code",
   "execution_count": 3,
   "metadata": {},
   "outputs": [],
   "source": [
    "def lst_final(data):\n",
    "    shifted_data_zero = np.concatenate((data[1:],[0]))\n",
    "    zero_range = np.divide(shifted_data_zero, data)\n",
    "    zero_range = np.concatenate(([data.iloc[0]], zero_range))-1\n",
    "    zero_range = zero_range[:-1]\n",
    "    iszero = np.concatenate(([0],\n",
    "                             np.greater(zero_range,0).view(np.int8),\n",
    "                            [0]))\n",
    "    absdiff = np.abs(np.diff(iszero))\n",
    "    lst_range = np.where(absdiff==1)[0].reshape(-1,2)\n",
    "    return lst_range"
   ]
  },
  {
   "cell_type": "code",
   "execution_count": 4,
   "metadata": {},
   "outputs": [],
   "source": [
    "def individual_return(data):\n",
    "    shifted_data_zero = np.concatenate((data[1:],[0]))\n",
    "    zero_range = np.divide(shifted_data_zero, data)\n",
    "    zero_range = np.concatenate(([data.iloc[0]], zero_range))-1\n",
    "    zero_range = zero_range[:-1]\n",
    "    return zero_range"
   ]
  },
  {
   "cell_type": "code",
   "execution_count": 5,
   "metadata": {},
   "outputs": [],
   "source": [
    "def get_lst_return(df,range_df):\n",
    "    len_range_df = range_df.diff(axis=1).stack()[::2]\n",
    "    lst_mask = len_range_df == np.max(len_range_df,axis=0)\n",
    "    lst_df = range_df[lst_mask]\n",
    "    \n",
    "    result_ls = []\n",
    "    for fdname in lst_mask.columns:\n",
    "        single_df = pd.DataFrame(columns=['START','END','LEN','RETURN'])\n",
    "        for i in lst_df[fdname].dropna().index:\n",
    "            start = lst_df[fdname].iloc[i]['START'].astype(int)\n",
    "            pre_start = start - 1 if start != 0 else None\n",
    "            end = lst_df[fdname].iloc[i]['END'].astype(int)\n",
    "            real_end = end - 1\n",
    "            #print(type(start))\n",
    "            #print(df[fdname].iloc[start-1])\n",
    "            if pre_start:\n",
    "                value = df[fdname].iloc[real_end] / df[fdname].iloc[pre_start] -1\n",
    "            else:\n",
    "                value = df[fdname].iloc[real_end] - 1\n",
    "            single_ser = pd.Series({'START':df.index[start],\n",
    "                                    'END':df.index[real_end],\n",
    "                                    'LEN':end - start,\n",
    "                                    'RETURN':value})\n",
    "            single_df = single_df.append(single_ser,ignore_index=True)\n",
    "            single_df = single_df[single_df['RETURN']==single_df['RETURN'].max()]\n",
    "        single_df.columns = [[fdname,fdname,fdname,fdname],\n",
    "                             ['START','END','LEN','RETURN']]\n",
    "        result_ls.append(single_df)\n",
    "    result_df = pd.concat(result_ls,axis=1)\n",
    "    if result_df.isnull().any().any():\n",
    "        result_df = result_df.fillna(method='ffill').dropna(how='any', axis=0)\n",
    "    return result_df"
   ]
  },
  {
   "cell_type": "code",
   "execution_count": 6,
   "metadata": {},
   "outputs": [
    {
     "data": {
      "text/html": [
       "<div>\n",
       "<style scoped>\n",
       "    .dataframe tbody tr th:only-of-type {\n",
       "        vertical-align: middle;\n",
       "    }\n",
       "\n",
       "    .dataframe tbody tr th {\n",
       "        vertical-align: top;\n",
       "    }\n",
       "\n",
       "    .dataframe thead th {\n",
       "        text-align: right;\n",
       "    }\n",
       "</style>\n",
       "<table border=\"1\" class=\"dataframe\">\n",
       "  <thead>\n",
       "    <tr style=\"text-align: right;\">\n",
       "      <th></th>\n",
       "      <th>A</th>\n",
       "      <th>B</th>\n",
       "      <th>C</th>\n",
       "      <th>D</th>\n",
       "      <th>E</th>\n",
       "    </tr>\n",
       "  </thead>\n",
       "  <tbody>\n",
       "    <tr>\n",
       "      <th>20140531</th>\n",
       "      <td>0.385407</td>\n",
       "      <td>1.850124</td>\n",
       "      <td>0.658288</td>\n",
       "      <td>1.334348</td>\n",
       "      <td>0.036437</td>\n",
       "    </tr>\n",
       "    <tr>\n",
       "      <th>20140630</th>\n",
       "      <td>2.296868</td>\n",
       "      <td>2.251787</td>\n",
       "      <td>0.083554</td>\n",
       "      <td>2.392373</td>\n",
       "      <td>0.343023</td>\n",
       "    </tr>\n",
       "    <tr>\n",
       "      <th>20140731</th>\n",
       "      <td>0.709571</td>\n",
       "      <td>1.515208</td>\n",
       "      <td>2.360563</td>\n",
       "      <td>2.131839</td>\n",
       "      <td>0.005648</td>\n",
       "    </tr>\n",
       "    <tr>\n",
       "      <th>20140831</th>\n",
       "      <td>1.303065</td>\n",
       "      <td>1.380094</td>\n",
       "      <td>1.213444</td>\n",
       "      <td>1.920335</td>\n",
       "      <td>0.401792</td>\n",
       "    </tr>\n",
       "    <tr>\n",
       "      <th>20140930</th>\n",
       "      <td>1.911401</td>\n",
       "      <td>0.052024</td>\n",
       "      <td>0.338025</td>\n",
       "      <td>0.290683</td>\n",
       "      <td>0.774744</td>\n",
       "    </tr>\n",
       "    <tr>\n",
       "      <th>20141031</th>\n",
       "      <td>1.678632</td>\n",
       "      <td>1.178074</td>\n",
       "      <td>2.040421</td>\n",
       "      <td>0.723967</td>\n",
       "      <td>1.832815</td>\n",
       "    </tr>\n",
       "    <tr>\n",
       "      <th>20141130</th>\n",
       "      <td>1.756556</td>\n",
       "      <td>0.818924</td>\n",
       "      <td>0.836619</td>\n",
       "      <td>2.445145</td>\n",
       "      <td>1.561455</td>\n",
       "    </tr>\n",
       "    <tr>\n",
       "      <th>20141231</th>\n",
       "      <td>2.375784</td>\n",
       "      <td>1.918689</td>\n",
       "      <td>2.062523</td>\n",
       "      <td>1.016601</td>\n",
       "      <td>1.128271</td>\n",
       "    </tr>\n",
       "    <tr>\n",
       "      <th>20150131</th>\n",
       "      <td>1.001579</td>\n",
       "      <td>2.487845</td>\n",
       "      <td>0.443910</td>\n",
       "      <td>2.406492</td>\n",
       "      <td>1.048126</td>\n",
       "    </tr>\n",
       "    <tr>\n",
       "      <th>20150228</th>\n",
       "      <td>1.060131</td>\n",
       "      <td>1.157872</td>\n",
       "      <td>0.934308</td>\n",
       "      <td>1.163770</td>\n",
       "      <td>0.087921</td>\n",
       "    </tr>\n",
       "    <tr>\n",
       "      <th>20150331</th>\n",
       "      <td>0.210682</td>\n",
       "      <td>1.831302</td>\n",
       "      <td>1.590500</td>\n",
       "      <td>0.069769</td>\n",
       "      <td>0.750425</td>\n",
       "    </tr>\n",
       "    <tr>\n",
       "      <th>20150430</th>\n",
       "      <td>0.552131</td>\n",
       "      <td>0.137550</td>\n",
       "      <td>1.308115</td>\n",
       "      <td>1.040924</td>\n",
       "      <td>0.120547</td>\n",
       "    </tr>\n",
       "    <tr>\n",
       "      <th>20150531</th>\n",
       "      <td>1.431011</td>\n",
       "      <td>2.008792</td>\n",
       "      <td>0.284004</td>\n",
       "      <td>0.692793</td>\n",
       "      <td>1.604195</td>\n",
       "    </tr>\n",
       "    <tr>\n",
       "      <th>20150630</th>\n",
       "      <td>1.231843</td>\n",
       "      <td>1.266390</td>\n",
       "      <td>1.153601</td>\n",
       "      <td>2.236858</td>\n",
       "      <td>1.514444</td>\n",
       "    </tr>\n",
       "    <tr>\n",
       "      <th>20150731</th>\n",
       "      <td>1.508389</td>\n",
       "      <td>1.109680</td>\n",
       "      <td>1.200117</td>\n",
       "      <td>2.221119</td>\n",
       "      <td>0.521251</td>\n",
       "    </tr>\n",
       "    <tr>\n",
       "      <th>20150831</th>\n",
       "      <td>2.361454</td>\n",
       "      <td>0.183675</td>\n",
       "      <td>1.487881</td>\n",
       "      <td>0.077878</td>\n",
       "      <td>1.663144</td>\n",
       "    </tr>\n",
       "    <tr>\n",
       "      <th>20150930</th>\n",
       "      <td>1.593464</td>\n",
       "      <td>2.156163</td>\n",
       "      <td>2.354094</td>\n",
       "      <td>1.114068</td>\n",
       "      <td>1.674894</td>\n",
       "    </tr>\n",
       "    <tr>\n",
       "      <th>20151030</th>\n",
       "      <td>2.310827</td>\n",
       "      <td>1.548559</td>\n",
       "      <td>0.806464</td>\n",
       "      <td>0.798691</td>\n",
       "      <td>0.728642</td>\n",
       "    </tr>\n",
       "  </tbody>\n",
       "</table>\n",
       "</div>"
      ],
      "text/plain": [
       "                 A         B         C         D         E\n",
       "20140531  0.385407  1.850124  0.658288  1.334348  0.036437\n",
       "20140630  2.296868  2.251787  0.083554  2.392373  0.343023\n",
       "20140731  0.709571  1.515208  2.360563  2.131839  0.005648\n",
       "20140831  1.303065  1.380094  1.213444  1.920335  0.401792\n",
       "20140930  1.911401  0.052024  0.338025  0.290683  0.774744\n",
       "20141031  1.678632  1.178074  2.040421  0.723967  1.832815\n",
       "20141130  1.756556  0.818924  0.836619  2.445145  1.561455\n",
       "20141231  2.375784  1.918689  2.062523  1.016601  1.128271\n",
       "20150131  1.001579  2.487845  0.443910  2.406492  1.048126\n",
       "20150228  1.060131  1.157872  0.934308  1.163770  0.087921\n",
       "20150331  0.210682  1.831302  1.590500  0.069769  0.750425\n",
       "20150430  0.552131  0.137550  1.308115  1.040924  0.120547\n",
       "20150531  1.431011  2.008792  0.284004  0.692793  1.604195\n",
       "20150630  1.231843  1.266390  1.153601  2.236858  1.514444\n",
       "20150731  1.508389  1.109680  1.200117  2.221119  0.521251\n",
       "20150831  2.361454  0.183675  1.487881  0.077878  1.663144\n",
       "20150930  1.593464  2.156163  2.354094  1.114068  1.674894\n",
       "20151030  2.310827  1.548559  0.806464  0.798691  0.728642"
      ]
     },
     "execution_count": 6,
     "metadata": {},
     "output_type": "execute_result"
    }
   ],
   "source": [
    "df = pd.DataFrame(np.random.uniform(0.,2.5,(18,5)),columns=list('ABCDE'))\n",
    "df.index = [20140531,20140630,20140731,20140831,20140930,20141031,20141130,20141231,20150131,20150228,\n",
    "                20150331,20150430,20150531,20150630,20150731,20150831,20150930,20151030]\n",
    "df\n"
   ]
  },
  {
   "cell_type": "code",
   "execution_count": 7,
   "metadata": {},
   "outputs": [],
   "source": [
    "cumprod_df = df.cumprod()"
   ]
  },
  {
   "cell_type": "code",
   "execution_count": 8,
   "metadata": {},
   "outputs": [],
   "source": [
    "indi_return = cumprod_df.apply(individual_return, axis=0)"
   ]
  },
  {
   "cell_type": "code",
   "execution_count": 9,
   "metadata": {},
   "outputs": [],
   "source": [
    "start = 20150507\n",
    "end = 20151107"
   ]
  },
  {
   "cell_type": "code",
   "execution_count": 10,
   "metadata": {},
   "outputs": [
    {
     "data": {
      "text/plain": [
       "array([-1, -1, -1, -1, -1, -1, -1, -1, -1, -1, -1, -1,  0,  1,  2,  3,  4,\n",
       "        5])"
      ]
     },
     "execution_count": 10,
     "metadata": {},
     "output_type": "execute_result"
    }
   ],
   "source": [
    "freq_prev_idx = np.array([-1, -1, -1, -1, -1, -1, -1, -1, -1, -1, -1, -1, 0, 1, 2, 3, 4, 5])\n",
    "freq_prev_idx"
   ]
  },
  {
   "cell_type": "code",
   "execution_count": 11,
   "metadata": {},
   "outputs": [],
   "source": [
    "actual_start = df.index[df.index.searchsorted(start, side='right') - 1]\n"
   ]
  },
  {
   "cell_type": "code",
   "execution_count": 12,
   "metadata": {},
   "outputs": [],
   "source": [
    "ranges = pd.Series(range(int(start <= actual_start), freq_prev_idx.max() + 2)).apply(\n",
    "    lambda x: (x, freq_prev_idx.searchsorted(x, side='left') - 1))"
   ]
  },
  {
   "cell_type": "code",
   "execution_count": 13,
   "metadata": {},
   "outputs": [
    {
     "data": {
      "text/plain": [
       "0    (0, 11)\n",
       "1    (1, 12)\n",
       "2    (2, 13)\n",
       "3    (3, 14)\n",
       "4    (4, 15)\n",
       "5    (5, 16)\n",
       "6    (6, 17)\n",
       "dtype: object"
      ]
     },
     "execution_count": 13,
     "metadata": {},
     "output_type": "execute_result"
    }
   ],
   "source": [
    "ranges"
   ]
  },
  {
   "cell_type": "code",
   "execution_count": 23,
   "metadata": {},
   "outputs": [
    {
     "data": {
      "text/html": [
       "<div>\n",
       "<style scoped>\n",
       "    .dataframe tbody tr th:only-of-type {\n",
       "        vertical-align: middle;\n",
       "    }\n",
       "\n",
       "    .dataframe tbody tr th {\n",
       "        vertical-align: top;\n",
       "    }\n",
       "\n",
       "    .dataframe thead th {\n",
       "        text-align: right;\n",
       "    }\n",
       "</style>\n",
       "<table border=\"1\" class=\"dataframe\">\n",
       "  <thead>\n",
       "    <tr style=\"text-align: right;\">\n",
       "      <th></th>\n",
       "      <th>A</th>\n",
       "      <th>B</th>\n",
       "      <th>C</th>\n",
       "      <th>D</th>\n",
       "      <th>E</th>\n",
       "    </tr>\n",
       "    <tr>\n",
       "      <th>date</th>\n",
       "      <th></th>\n",
       "      <th></th>\n",
       "      <th></th>\n",
       "      <th></th>\n",
       "      <th></th>\n",
       "    </tr>\n",
       "  </thead>\n",
       "  <tbody>\n",
       "    <tr>\n",
       "      <th>20140531</th>\n",
       "      <td>-0.614593</td>\n",
       "      <td>0.850124</td>\n",
       "      <td>-0.341712</td>\n",
       "      <td>0.334348</td>\n",
       "      <td>-0.963563</td>\n",
       "    </tr>\n",
       "    <tr>\n",
       "      <th>20140630</th>\n",
       "      <td>1.296868</td>\n",
       "      <td>1.251787</td>\n",
       "      <td>-0.916446</td>\n",
       "      <td>1.392373</td>\n",
       "      <td>-0.656977</td>\n",
       "    </tr>\n",
       "    <tr>\n",
       "      <th>20140731</th>\n",
       "      <td>-0.290429</td>\n",
       "      <td>0.515208</td>\n",
       "      <td>1.360563</td>\n",
       "      <td>1.131839</td>\n",
       "      <td>-0.994352</td>\n",
       "    </tr>\n",
       "    <tr>\n",
       "      <th>20140831</th>\n",
       "      <td>0.303065</td>\n",
       "      <td>0.380094</td>\n",
       "      <td>0.213444</td>\n",
       "      <td>0.920335</td>\n",
       "      <td>-0.598208</td>\n",
       "    </tr>\n",
       "    <tr>\n",
       "      <th>20140930</th>\n",
       "      <td>0.911401</td>\n",
       "      <td>-0.947976</td>\n",
       "      <td>-0.661975</td>\n",
       "      <td>-0.709317</td>\n",
       "      <td>-0.225256</td>\n",
       "    </tr>\n",
       "    <tr>\n",
       "      <th>20141031</th>\n",
       "      <td>0.678632</td>\n",
       "      <td>0.178074</td>\n",
       "      <td>1.040421</td>\n",
       "      <td>-0.276033</td>\n",
       "      <td>0.832815</td>\n",
       "    </tr>\n",
       "    <tr>\n",
       "      <th>20141130</th>\n",
       "      <td>0.756556</td>\n",
       "      <td>-0.181076</td>\n",
       "      <td>-0.163381</td>\n",
       "      <td>1.445145</td>\n",
       "      <td>0.561455</td>\n",
       "    </tr>\n",
       "    <tr>\n",
       "      <th>20141231</th>\n",
       "      <td>1.375784</td>\n",
       "      <td>0.918689</td>\n",
       "      <td>1.062523</td>\n",
       "      <td>0.016601</td>\n",
       "      <td>0.128271</td>\n",
       "    </tr>\n",
       "    <tr>\n",
       "      <th>20150131</th>\n",
       "      <td>0.001579</td>\n",
       "      <td>1.487845</td>\n",
       "      <td>-0.556090</td>\n",
       "      <td>1.406492</td>\n",
       "      <td>0.048126</td>\n",
       "    </tr>\n",
       "    <tr>\n",
       "      <th>20150228</th>\n",
       "      <td>0.060131</td>\n",
       "      <td>0.157872</td>\n",
       "      <td>-0.065692</td>\n",
       "      <td>0.163770</td>\n",
       "      <td>-0.912079</td>\n",
       "    </tr>\n",
       "    <tr>\n",
       "      <th>20150331</th>\n",
       "      <td>-0.789318</td>\n",
       "      <td>0.831302</td>\n",
       "      <td>0.590500</td>\n",
       "      <td>-0.930231</td>\n",
       "      <td>-0.249575</td>\n",
       "    </tr>\n",
       "    <tr>\n",
       "      <th>20150430</th>\n",
       "      <td>-0.447869</td>\n",
       "      <td>-0.862450</td>\n",
       "      <td>0.308115</td>\n",
       "      <td>0.040924</td>\n",
       "      <td>-0.879453</td>\n",
       "    </tr>\n",
       "  </tbody>\n",
       "</table>\n",
       "</div>"
      ],
      "text/plain": [
       "                 A         B         C         D         E\n",
       "date                                                      \n",
       "20140531 -0.614593  0.850124 -0.341712  0.334348 -0.963563\n",
       "20140630  1.296868  1.251787 -0.916446  1.392373 -0.656977\n",
       "20140731 -0.290429  0.515208  1.360563  1.131839 -0.994352\n",
       "20140831  0.303065  0.380094  0.213444  0.920335 -0.598208\n",
       "20140930  0.911401 -0.947976 -0.661975 -0.709317 -0.225256\n",
       "20141031  0.678632  0.178074  1.040421 -0.276033  0.832815\n",
       "20141130  0.756556 -0.181076 -0.163381  1.445145  0.561455\n",
       "20141231  1.375784  0.918689  1.062523  0.016601  0.128271\n",
       "20150131  0.001579  1.487845 -0.556090  1.406492  0.048126\n",
       "20150228  0.060131  0.157872 -0.065692  0.163770 -0.912079\n",
       "20150331 -0.789318  0.831302  0.590500 -0.930231 -0.249575\n",
       "20150430 -0.447869 -0.862450  0.308115  0.040924 -0.879453"
      ]
     },
     "execution_count": 23,
     "metadata": {},
     "output_type": "execute_result"
    }
   ],
   "source": [
    "r = ranges[0]\n",
    "_data = indi_return.iloc[r[0]:r[1]+1]\n",
    "_data.index.names = ['date']\n",
    "_data"
   ]
  },
  {
   "cell_type": "code",
   "execution_count": 30,
   "metadata": {},
   "outputs": [
    {
     "name": "stderr",
     "output_type": "stream",
     "text": [
      "/anaconda3/envs/py36/lib/python3.6/site-packages/ipykernel/__main__.py:1: FutureWarning: The reduce argument is deprecated and will be removed in a future version. You can specify result_type='reduce' to try to reduce the result to the original dimensions\n",
      "  if __name__ == '__main__':\n"
     ]
    },
    {
     "ename": "ValueError",
     "evalue": "('Length of passed values is 2, index implies 12', 'occurred at index A')",
     "output_type": "error",
     "traceback": [
      "\u001b[0;31m---------------------------------------------------------------------------\u001b[0m",
      "\u001b[0;31mValueError\u001b[0m                                Traceback (most recent call last)",
      "\u001b[0;32m<ipython-input-30-bc33a63beec1>\u001b[0m in \u001b[0;36m<module>\u001b[0;34m\u001b[0m\n\u001b[0;32m----> 1\u001b[0;31m \u001b[0m_data\u001b[0m\u001b[0;34m.\u001b[0m\u001b[0mapply\u001b[0m\u001b[0;34m(\u001b[0m\u001b[0;32mlambda\u001b[0m \u001b[0mx\u001b[0m\u001b[0;34m:\u001b[0m\u001b[0mpd\u001b[0m\u001b[0;34m.\u001b[0m\u001b[0mSeries\u001b[0m\u001b[0;34m(\u001b[0m\u001b[0mget_lst_range\u001b[0m\u001b[0;34m(\u001b[0m\u001b[0mx\u001b[0m\u001b[0;34m)\u001b[0m\u001b[0;34m,\u001b[0m\u001b[0mindex\u001b[0m\u001b[0;34m=\u001b[0m\u001b[0mnp\u001b[0m\u001b[0;34m.\u001b[0m\u001b[0marange\u001b[0m\u001b[0;34m(\u001b[0m\u001b[0m_data\u001b[0m\u001b[0;34m.\u001b[0m\u001b[0mshape\u001b[0m\u001b[0;34m[\u001b[0m\u001b[0;36m0\u001b[0m\u001b[0;34m]\u001b[0m\u001b[0;34m)\u001b[0m\u001b[0;34m)\u001b[0m\u001b[0;34m,\u001b[0m\u001b[0maxis\u001b[0m\u001b[0;34m=\u001b[0m\u001b[0;36m0\u001b[0m\u001b[0;34m,\u001b[0m\u001b[0mreduce\u001b[0m\u001b[0;34m=\u001b[0m\u001b[0;32mFalse\u001b[0m\u001b[0;34m)\u001b[0m\u001b[0;34m\u001b[0m\u001b[0;34m\u001b[0m\u001b[0m\n\u001b[0m",
      "\u001b[0;32m/anaconda3/envs/py36/lib/python3.6/site-packages/pandas/core/frame.py\u001b[0m in \u001b[0;36mapply\u001b[0;34m(self, func, axis, broadcast, raw, reduce, result_type, args, **kwds)\u001b[0m\n\u001b[1;32m   6485\u001b[0m                          \u001b[0margs\u001b[0m\u001b[0;34m=\u001b[0m\u001b[0margs\u001b[0m\u001b[0;34m,\u001b[0m\u001b[0;34m\u001b[0m\u001b[0;34m\u001b[0m\u001b[0m\n\u001b[1;32m   6486\u001b[0m                          kwds=kwds)\n\u001b[0;32m-> 6487\u001b[0;31m         \u001b[0;32mreturn\u001b[0m \u001b[0mop\u001b[0m\u001b[0;34m.\u001b[0m\u001b[0mget_result\u001b[0m\u001b[0;34m(\u001b[0m\u001b[0;34m)\u001b[0m\u001b[0;34m\u001b[0m\u001b[0;34m\u001b[0m\u001b[0m\n\u001b[0m\u001b[1;32m   6488\u001b[0m \u001b[0;34m\u001b[0m\u001b[0m\n\u001b[1;32m   6489\u001b[0m     \u001b[0;32mdef\u001b[0m \u001b[0mapplymap\u001b[0m\u001b[0;34m(\u001b[0m\u001b[0mself\u001b[0m\u001b[0;34m,\u001b[0m \u001b[0mfunc\u001b[0m\u001b[0;34m)\u001b[0m\u001b[0;34m:\u001b[0m\u001b[0;34m\u001b[0m\u001b[0;34m\u001b[0m\u001b[0m\n",
      "\u001b[0;32m/anaconda3/envs/py36/lib/python3.6/site-packages/pandas/core/apply.py\u001b[0m in \u001b[0;36mget_result\u001b[0;34m(self)\u001b[0m\n\u001b[1;32m    149\u001b[0m             \u001b[0;32mreturn\u001b[0m \u001b[0mself\u001b[0m\u001b[0;34m.\u001b[0m\u001b[0mapply_raw\u001b[0m\u001b[0;34m(\u001b[0m\u001b[0;34m)\u001b[0m\u001b[0;34m\u001b[0m\u001b[0;34m\u001b[0m\u001b[0m\n\u001b[1;32m    150\u001b[0m \u001b[0;34m\u001b[0m\u001b[0m\n\u001b[0;32m--> 151\u001b[0;31m         \u001b[0;32mreturn\u001b[0m \u001b[0mself\u001b[0m\u001b[0;34m.\u001b[0m\u001b[0mapply_standard\u001b[0m\u001b[0;34m(\u001b[0m\u001b[0;34m)\u001b[0m\u001b[0;34m\u001b[0m\u001b[0;34m\u001b[0m\u001b[0m\n\u001b[0m\u001b[1;32m    152\u001b[0m \u001b[0;34m\u001b[0m\u001b[0m\n\u001b[1;32m    153\u001b[0m     \u001b[0;32mdef\u001b[0m \u001b[0mapply_empty_result\u001b[0m\u001b[0;34m(\u001b[0m\u001b[0mself\u001b[0m\u001b[0;34m)\u001b[0m\u001b[0;34m:\u001b[0m\u001b[0;34m\u001b[0m\u001b[0;34m\u001b[0m\u001b[0m\n",
      "\u001b[0;32m/anaconda3/envs/py36/lib/python3.6/site-packages/pandas/core/apply.py\u001b[0m in \u001b[0;36mapply_standard\u001b[0;34m(self)\u001b[0m\n\u001b[1;32m    255\u001b[0m \u001b[0;34m\u001b[0m\u001b[0m\n\u001b[1;32m    256\u001b[0m         \u001b[0;31m# compute the result using the series generator\u001b[0m\u001b[0;34m\u001b[0m\u001b[0;34m\u001b[0m\u001b[0;34m\u001b[0m\u001b[0m\n\u001b[0;32m--> 257\u001b[0;31m         \u001b[0mself\u001b[0m\u001b[0;34m.\u001b[0m\u001b[0mapply_series_generator\u001b[0m\u001b[0;34m(\u001b[0m\u001b[0;34m)\u001b[0m\u001b[0;34m\u001b[0m\u001b[0;34m\u001b[0m\u001b[0m\n\u001b[0m\u001b[1;32m    258\u001b[0m \u001b[0;34m\u001b[0m\u001b[0m\n\u001b[1;32m    259\u001b[0m         \u001b[0;31m# wrap results\u001b[0m\u001b[0;34m\u001b[0m\u001b[0;34m\u001b[0m\u001b[0;34m\u001b[0m\u001b[0m\n",
      "\u001b[0;32m/anaconda3/envs/py36/lib/python3.6/site-packages/pandas/core/apply.py\u001b[0m in \u001b[0;36mapply_series_generator\u001b[0;34m(self)\u001b[0m\n\u001b[1;32m    284\u001b[0m             \u001b[0;32mtry\u001b[0m\u001b[0;34m:\u001b[0m\u001b[0;34m\u001b[0m\u001b[0;34m\u001b[0m\u001b[0m\n\u001b[1;32m    285\u001b[0m                 \u001b[0;32mfor\u001b[0m \u001b[0mi\u001b[0m\u001b[0;34m,\u001b[0m \u001b[0mv\u001b[0m \u001b[0;32min\u001b[0m \u001b[0menumerate\u001b[0m\u001b[0;34m(\u001b[0m\u001b[0mseries_gen\u001b[0m\u001b[0;34m)\u001b[0m\u001b[0;34m:\u001b[0m\u001b[0;34m\u001b[0m\u001b[0;34m\u001b[0m\u001b[0m\n\u001b[0;32m--> 286\u001b[0;31m                     \u001b[0mresults\u001b[0m\u001b[0;34m[\u001b[0m\u001b[0mi\u001b[0m\u001b[0;34m]\u001b[0m \u001b[0;34m=\u001b[0m \u001b[0mself\u001b[0m\u001b[0;34m.\u001b[0m\u001b[0mf\u001b[0m\u001b[0;34m(\u001b[0m\u001b[0mv\u001b[0m\u001b[0;34m)\u001b[0m\u001b[0;34m\u001b[0m\u001b[0;34m\u001b[0m\u001b[0m\n\u001b[0m\u001b[1;32m    287\u001b[0m                     \u001b[0mkeys\u001b[0m\u001b[0;34m.\u001b[0m\u001b[0mappend\u001b[0m\u001b[0;34m(\u001b[0m\u001b[0mv\u001b[0m\u001b[0;34m.\u001b[0m\u001b[0mname\u001b[0m\u001b[0;34m)\u001b[0m\u001b[0;34m\u001b[0m\u001b[0;34m\u001b[0m\u001b[0m\n\u001b[1;32m    288\u001b[0m             \u001b[0;32mexcept\u001b[0m \u001b[0mException\u001b[0m \u001b[0;32mas\u001b[0m \u001b[0me\u001b[0m\u001b[0;34m:\u001b[0m\u001b[0;34m\u001b[0m\u001b[0;34m\u001b[0m\u001b[0m\n",
      "\u001b[0;32m<ipython-input-30-bc33a63beec1>\u001b[0m in \u001b[0;36m<lambda>\u001b[0;34m(x)\u001b[0m\n\u001b[0;32m----> 1\u001b[0;31m \u001b[0m_data\u001b[0m\u001b[0;34m.\u001b[0m\u001b[0mapply\u001b[0m\u001b[0;34m(\u001b[0m\u001b[0;32mlambda\u001b[0m \u001b[0mx\u001b[0m\u001b[0;34m:\u001b[0m\u001b[0mpd\u001b[0m\u001b[0;34m.\u001b[0m\u001b[0mSeries\u001b[0m\u001b[0;34m(\u001b[0m\u001b[0mget_lst_range\u001b[0m\u001b[0;34m(\u001b[0m\u001b[0mx\u001b[0m\u001b[0;34m)\u001b[0m\u001b[0;34m,\u001b[0m\u001b[0mindex\u001b[0m\u001b[0;34m=\u001b[0m\u001b[0mnp\u001b[0m\u001b[0;34m.\u001b[0m\u001b[0marange\u001b[0m\u001b[0;34m(\u001b[0m\u001b[0m_data\u001b[0m\u001b[0;34m.\u001b[0m\u001b[0mshape\u001b[0m\u001b[0;34m[\u001b[0m\u001b[0;36m0\u001b[0m\u001b[0;34m]\u001b[0m\u001b[0;34m)\u001b[0m\u001b[0;34m)\u001b[0m\u001b[0;34m,\u001b[0m\u001b[0maxis\u001b[0m\u001b[0;34m=\u001b[0m\u001b[0;36m0\u001b[0m\u001b[0;34m,\u001b[0m\u001b[0mreduce\u001b[0m\u001b[0;34m=\u001b[0m\u001b[0;32mFalse\u001b[0m\u001b[0;34m)\u001b[0m\u001b[0;34m\u001b[0m\u001b[0;34m\u001b[0m\u001b[0m\n\u001b[0m",
      "\u001b[0;32m/anaconda3/envs/py36/lib/python3.6/site-packages/pandas/core/series.py\u001b[0m in \u001b[0;36m__init__\u001b[0;34m(self, data, index, dtype, name, copy, fastpath)\u001b[0m\n\u001b[1;32m    247\u001b[0m                             \u001b[0;34m'Length of passed values is {val}, '\u001b[0m\u001b[0;34m\u001b[0m\u001b[0;34m\u001b[0m\u001b[0m\n\u001b[1;32m    248\u001b[0m                             \u001b[0;34m'index implies {ind}'\u001b[0m\u001b[0;34m\u001b[0m\u001b[0;34m\u001b[0m\u001b[0m\n\u001b[0;32m--> 249\u001b[0;31m                             .format(val=len(data), ind=len(index)))\n\u001b[0m\u001b[1;32m    250\u001b[0m                 \u001b[0;32mexcept\u001b[0m \u001b[0mTypeError\u001b[0m\u001b[0;34m:\u001b[0m\u001b[0;34m\u001b[0m\u001b[0;34m\u001b[0m\u001b[0m\n\u001b[1;32m    251\u001b[0m                     \u001b[0;32mpass\u001b[0m\u001b[0;34m\u001b[0m\u001b[0;34m\u001b[0m\u001b[0m\n",
      "\u001b[0;31mValueError\u001b[0m: ('Length of passed values is 2, index implies 12', 'occurred at index A')"
     ]
    }
   ],
   "source": [
    "_data.apply(lambda x:pd.Series(get_lst_range(x),index=np.arange(_data.shape[0])),axis=0,reduce=False)"
   ]
  },
  {
   "cell_type": "code",
   "execution_count": null,
   "metadata": {},
   "outputs": [],
   "source": [
    "result_ls = []\n",
    "\n",
    "for offset in range(len(ranges)):\n",
    "    r = ranges[offset]\n",
    "    range_lst_tmp = []\n",
    "    # fdname = tst_df.columns[fdidx]\n",
    "    for fdidx in range(df.columns.size):\n",
    "        fdname = df.columns[fdidx]\n",
    "        _data = indi_return.iloc[r[0]:r[1] + 1, fdidx]\n",
    "        single_rst = get_lst_range(_data) + offset\n",
    "        range_lst_tmp.append(pd.DataFrame(single_rst, columns=[[fdname, fdname], ['START', 'END']]))\n",
    "    range_df = pd.concat(range_lst_tmp, axis=1)\n",
    "    range_df.columns.names = ['FUND', 'RANGE']\n",
    "    range_df.index.names = ['idx']\n",
    "    result_single_df = get_lst_return(cumprod_df, range_df)\n",
    "    result_ls.append(result_single_df)\n",
    "result_df = pd.concat(result_ls, axis=0)\n",
    "newindex = df.index[df.index.searchsorted(start, side='right') - 1:]\n",
    "result_df.index = newindex"
   ]
  },
  {
   "cell_type": "code",
   "execution_count": null,
   "metadata": {},
   "outputs": [],
   "source": [
    "result_df"
   ]
  },
  {
   "cell_type": "code",
   "execution_count": null,
   "metadata": {},
   "outputs": [],
   "source": [
    "result_df.columns.levels[0]"
   ]
  },
  {
   "cell_type": "code",
   "execution_count": null,
   "metadata": {},
   "outputs": [],
   "source": [
    "ror_ls = []\n",
    "for fdname in df.columns:\n",
    "    _fd = result_df[fdname]\n",
    "    _fd['ROR'] = np.power(1 + _fd['RETURN'],\n",
    "                          12 / _fd['LEN']) - 1\n",
    "    _fd.columns=pd.MultiIndex.from_product([[fdname],\n",
    "                                            ['START',\n",
    "                                        'END','LEN','RETURN','ROR']])\n",
    "    ror_ls.append(_fd)\n",
    "    \n",
    "ror_df = pd.concat(ror_ls,axis=1)\n",
    "ror_df"
   ]
  },
  {
   "cell_type": "code",
   "execution_count": null,
   "metadata": {},
   "outputs": [],
   "source": []
  }
 ],
 "metadata": {
  "kernelspec": {
   "display_name": "Python [conda env:py36]",
   "language": "python",
   "name": "conda-env-py36-py"
  },
  "language_info": {
   "codemirror_mode": {
    "name": "ipython",
    "version": 3
   },
   "file_extension": ".py",
   "mimetype": "text/x-python",
   "name": "python",
   "nbconvert_exporter": "python",
   "pygments_lexer": "ipython3",
   "version": "3.6.7"
  },
  "varInspector": {
   "cols": {
    "lenName": 16,
    "lenType": 16,
    "lenVar": 40
   },
   "kernels_config": {
    "python": {
     "delete_cmd_postfix": "",
     "delete_cmd_prefix": "del ",
     "library": "var_list.py",
     "varRefreshCmd": "print(var_dic_list())"
    },
    "r": {
     "delete_cmd_postfix": ") ",
     "delete_cmd_prefix": "rm(",
     "library": "var_list.r",
     "varRefreshCmd": "cat(var_dic_list()) "
    }
   },
   "types_to_exclude": [
    "module",
    "function",
    "builtin_function_or_method",
    "instance",
    "_Feature"
   ],
   "window_display": false
  }
 },
 "nbformat": 4,
 "nbformat_minor": 2
}
