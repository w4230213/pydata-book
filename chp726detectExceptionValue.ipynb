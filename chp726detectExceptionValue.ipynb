{
 "cells": [
  {
   "cell_type": "code",
   "execution_count": 36,
   "metadata": {},
   "outputs": [],
   "source": [
    "import numpy as np\n",
    "import pandas as pd\n",
    "import import_ipynb\n",
    "from utils import show\n",
    "\n",
    "pd.options.display.max_rows = 8"
   ]
  },
  {
   "cell_type": "code",
   "execution_count": 2,
   "metadata": {},
   "outputs": [
    {
     "data": {
      "text/html": [
       "<div>\n",
       "<style scoped>\n",
       "    .dataframe tbody tr th:only-of-type {\n",
       "        vertical-align: middle;\n",
       "    }\n",
       "\n",
       "    .dataframe tbody tr th {\n",
       "        vertical-align: top;\n",
       "    }\n",
       "\n",
       "    .dataframe thead th {\n",
       "        text-align: right;\n",
       "    }\n",
       "</style>\n",
       "<table border=\"1\" class=\"dataframe\">\n",
       "  <thead>\n",
       "    <tr style=\"text-align: right;\">\n",
       "      <th></th>\n",
       "      <th>0</th>\n",
       "      <th>1</th>\n",
       "      <th>2</th>\n",
       "      <th>3</th>\n",
       "    </tr>\n",
       "  </thead>\n",
       "  <tbody>\n",
       "    <tr>\n",
       "      <th>count</th>\n",
       "      <td>1000.000000</td>\n",
       "      <td>1000.000000</td>\n",
       "      <td>1000.000000</td>\n",
       "      <td>1000.000000</td>\n",
       "    </tr>\n",
       "    <tr>\n",
       "      <th>mean</th>\n",
       "      <td>0.017892</td>\n",
       "      <td>-0.005200</td>\n",
       "      <td>-0.030340</td>\n",
       "      <td>-0.031788</td>\n",
       "    </tr>\n",
       "    <tr>\n",
       "      <th>std</th>\n",
       "      <td>0.980933</td>\n",
       "      <td>0.985802</td>\n",
       "      <td>1.001033</td>\n",
       "      <td>1.012891</td>\n",
       "    </tr>\n",
       "    <tr>\n",
       "      <th>min</th>\n",
       "      <td>-3.719755</td>\n",
       "      <td>-3.022372</td>\n",
       "      <td>-3.174387</td>\n",
       "      <td>-3.128869</td>\n",
       "    </tr>\n",
       "    <tr>\n",
       "      <th>25%</th>\n",
       "      <td>-0.635467</td>\n",
       "      <td>-0.682069</td>\n",
       "      <td>-0.734340</td>\n",
       "      <td>-0.707342</td>\n",
       "    </tr>\n",
       "    <tr>\n",
       "      <th>50%</th>\n",
       "      <td>-0.034642</td>\n",
       "      <td>0.014105</td>\n",
       "      <td>-0.009733</td>\n",
       "      <td>-0.033624</td>\n",
       "    </tr>\n",
       "    <tr>\n",
       "      <th>75%</th>\n",
       "      <td>0.646918</td>\n",
       "      <td>0.656186</td>\n",
       "      <td>0.638219</td>\n",
       "      <td>0.626777</td>\n",
       "    </tr>\n",
       "    <tr>\n",
       "      <th>max</th>\n",
       "      <td>3.202007</td>\n",
       "      <td>3.070796</td>\n",
       "      <td>3.320664</td>\n",
       "      <td>3.298676</td>\n",
       "    </tr>\n",
       "  </tbody>\n",
       "</table>\n",
       "</div>"
      ],
      "text/plain": [
       "                 0            1            2            3\n",
       "count  1000.000000  1000.000000  1000.000000  1000.000000\n",
       "mean      0.017892    -0.005200    -0.030340    -0.031788\n",
       "std       0.980933     0.985802     1.001033     1.012891\n",
       "min      -3.719755    -3.022372    -3.174387    -3.128869\n",
       "25%      -0.635467    -0.682069    -0.734340    -0.707342\n",
       "50%      -0.034642     0.014105    -0.009733    -0.033624\n",
       "75%       0.646918     0.656186     0.638219     0.626777\n",
       "max       3.202007     3.070796     3.320664     3.298676"
      ]
     },
     "execution_count": 2,
     "metadata": {},
     "output_type": "execute_result"
    }
   ],
   "source": [
    "data = pd.DataFrame(np.random.randn(1000,4))\n",
    "data.describe()"
   ]
  },
  {
   "cell_type": "code",
   "execution_count": 3,
   "metadata": {},
   "outputs": [
    {
     "data": {
      "text/plain": [
       "167   -3.174387\n",
       "399    3.038941\n",
       "602    3.320664\n",
       "684   -3.170671\n",
       "Name: 2, dtype: float64"
      ]
     },
     "execution_count": 3,
     "metadata": {},
     "output_type": "execute_result"
    }
   ],
   "source": [
    "data[2][np.abs(data[2])>3]"
   ]
  },
  {
   "cell_type": "code",
   "execution_count": 17,
   "metadata": {},
   "outputs": [
    {
     "data": {
      "text/html": [
       "<div>\n",
       "<style scoped>\n",
       "    .dataframe tbody tr th:only-of-type {\n",
       "        vertical-align: middle;\n",
       "    }\n",
       "\n",
       "    .dataframe tbody tr th {\n",
       "        vertical-align: top;\n",
       "    }\n",
       "\n",
       "    .dataframe thead th {\n",
       "        text-align: right;\n",
       "    }\n",
       "</style>\n",
       "<table border=\"1\" class=\"dataframe\">\n",
       "  <thead>\n",
       "    <tr style=\"text-align: right;\">\n",
       "      <th></th>\n",
       "      <th>0</th>\n",
       "      <th>1</th>\n",
       "      <th>2</th>\n",
       "      <th>3</th>\n",
       "    </tr>\n",
       "  </thead>\n",
       "  <tbody>\n",
       "    <tr>\n",
       "      <th>99</th>\n",
       "      <td>3.202007</td>\n",
       "      <td>0.681881</td>\n",
       "      <td>-0.600312</td>\n",
       "      <td>0.039828</td>\n",
       "    </tr>\n",
       "    <tr>\n",
       "      <th>383</th>\n",
       "      <td>0.459163</td>\n",
       "      <td>-1.811085</td>\n",
       "      <td>-0.441168</td>\n",
       "      <td>3.223359</td>\n",
       "    </tr>\n",
       "    <tr>\n",
       "      <th>399</th>\n",
       "      <td>1.439594</td>\n",
       "      <td>0.317487</td>\n",
       "      <td>3.038941</td>\n",
       "      <td>0.246632</td>\n",
       "    </tr>\n",
       "    <tr>\n",
       "      <th>602</th>\n",
       "      <td>-1.566905</td>\n",
       "      <td>0.118635</td>\n",
       "      <td>3.320664</td>\n",
       "      <td>-1.884614</td>\n",
       "    </tr>\n",
       "    <tr>\n",
       "      <th>874</th>\n",
       "      <td>-0.555799</td>\n",
       "      <td>3.070796</td>\n",
       "      <td>-0.643394</td>\n",
       "      <td>1.682621</td>\n",
       "    </tr>\n",
       "    <tr>\n",
       "      <th>875</th>\n",
       "      <td>-1.411707</td>\n",
       "      <td>1.757743</td>\n",
       "      <td>0.401091</td>\n",
       "      <td>3.298676</td>\n",
       "    </tr>\n",
       "  </tbody>\n",
       "</table>\n",
       "</div>"
      ],
      "text/plain": [
       "            0         1         2         3\n",
       "99   3.202007  0.681881 -0.600312  0.039828\n",
       "383  0.459163 -1.811085 -0.441168  3.223359\n",
       "399  1.439594  0.317487  3.038941  0.246632\n",
       "602 -1.566905  0.118635  3.320664 -1.884614\n",
       "874 -0.555799  3.070796 -0.643394  1.682621\n",
       "875 -1.411707  1.757743  0.401091  3.298676"
      ]
     },
     "execution_count": 17,
     "metadata": {},
     "output_type": "execute_result"
    }
   ],
   "source": [
    "data[np.abs(data>3).any(1)]"
   ]
  },
  {
   "cell_type": "code",
   "execution_count": 19,
   "metadata": {},
   "outputs": [
    {
     "name": "stdout",
     "output_type": "stream",
     "text": [
      "<class 'pandas.core.frame.DataFrame'>\n",
      "--------------------\n",
      "    0   1   2   3\n",
      "0   0   1   2   3\n",
      "1   4   5   6   7\n",
      "2   8   9  10  11\n",
      "3  12  13  14  15\n",
      "4  16  17  18  19\n"
     ]
    }
   ],
   "source": [
    "data = pd.DataFrame(np.arange(20).reshape(5,4))\n",
    "show(data)"
   ]
  },
  {
   "cell_type": "code",
   "execution_count": 21,
   "metadata": {},
   "outputs": [
    {
     "data": {
      "text/html": [
       "<div>\n",
       "<style scoped>\n",
       "    .dataframe tbody tr th:only-of-type {\n",
       "        vertical-align: middle;\n",
       "    }\n",
       "\n",
       "    .dataframe tbody tr th {\n",
       "        vertical-align: top;\n",
       "    }\n",
       "\n",
       "    .dataframe thead th {\n",
       "        text-align: right;\n",
       "    }\n",
       "</style>\n",
       "<table border=\"1\" class=\"dataframe\">\n",
       "  <thead>\n",
       "    <tr style=\"text-align: right;\">\n",
       "      <th></th>\n",
       "      <th>0</th>\n",
       "      <th>1</th>\n",
       "      <th>2</th>\n",
       "      <th>3</th>\n",
       "    </tr>\n",
       "  </thead>\n",
       "  <tbody>\n",
       "    <tr>\n",
       "      <th>4</th>\n",
       "      <td>16</td>\n",
       "      <td>17</td>\n",
       "      <td>18</td>\n",
       "      <td>19</td>\n",
       "    </tr>\n",
       "    <tr>\n",
       "      <th>4</th>\n",
       "      <td>16</td>\n",
       "      <td>17</td>\n",
       "      <td>18</td>\n",
       "      <td>19</td>\n",
       "    </tr>\n",
       "    <tr>\n",
       "      <th>1</th>\n",
       "      <td>4</td>\n",
       "      <td>5</td>\n",
       "      <td>6</td>\n",
       "      <td>7</td>\n",
       "    </tr>\n",
       "    <tr>\n",
       "      <th>2</th>\n",
       "      <td>8</td>\n",
       "      <td>9</td>\n",
       "      <td>10</td>\n",
       "      <td>11</td>\n",
       "    </tr>\n",
       "    <tr>\n",
       "      <th>4</th>\n",
       "      <td>16</td>\n",
       "      <td>17</td>\n",
       "      <td>18</td>\n",
       "      <td>19</td>\n",
       "    </tr>\n",
       "    <tr>\n",
       "      <th>4</th>\n",
       "      <td>16</td>\n",
       "      <td>17</td>\n",
       "      <td>18</td>\n",
       "      <td>19</td>\n",
       "    </tr>\n",
       "    <tr>\n",
       "      <th>0</th>\n",
       "      <td>0</td>\n",
       "      <td>1</td>\n",
       "      <td>2</td>\n",
       "      <td>3</td>\n",
       "    </tr>\n",
       "    <tr>\n",
       "      <th>4</th>\n",
       "      <td>16</td>\n",
       "      <td>17</td>\n",
       "      <td>18</td>\n",
       "      <td>19</td>\n",
       "    </tr>\n",
       "    <tr>\n",
       "      <th>0</th>\n",
       "      <td>0</td>\n",
       "      <td>1</td>\n",
       "      <td>2</td>\n",
       "      <td>3</td>\n",
       "    </tr>\n",
       "    <tr>\n",
       "      <th>2</th>\n",
       "      <td>8</td>\n",
       "      <td>9</td>\n",
       "      <td>10</td>\n",
       "      <td>11</td>\n",
       "    </tr>\n",
       "  </tbody>\n",
       "</table>\n",
       "</div>"
      ],
      "text/plain": [
       "    0   1   2   3\n",
       "4  16  17  18  19\n",
       "4  16  17  18  19\n",
       "1   4   5   6   7\n",
       "2   8   9  10  11\n",
       "4  16  17  18  19\n",
       "4  16  17  18  19\n",
       "0   0   1   2   3\n",
       "4  16  17  18  19\n",
       "0   0   1   2   3\n",
       "2   8   9  10  11"
      ]
     },
     "execution_count": 21,
     "metadata": {},
     "output_type": "execute_result"
    }
   ],
   "source": [
    "data.sample(10,replace=True)"
   ]
  },
  {
   "cell_type": "code",
   "execution_count": 23,
   "metadata": {},
   "outputs": [
    {
     "name": "stdout",
     "output_type": "stream",
     "text": [
      "1::Toy Story (1995)::Animation|Children's|Comedy\r\n",
      "2::Jumanji (1995)::Adventure|Children's|Fantasy\r\n",
      "3::Grumpier Old Men (1995)::Comedy|Romance\r\n",
      "4::Waiting to Exhale (1995)::Comedy|Drama\r\n",
      "5::Father of the Bride Part II (1995)::Comedy\r\n",
      "6::Heat (1995)::Action|Crime|Thriller\r\n",
      "7::Sabrina (1995)::Comedy|Romance\r\n",
      "8::Tom and Huck (1995)::Adventure|Children's\r\n",
      "9::Sudden Death (1995)::Action\r\n",
      "10::GoldenEye (1995)::Action|Adventure|Thriller\r\n"
     ]
    }
   ],
   "source": [
    "!head datasets/movielens/movies.dat"
   ]
  },
  {
   "cell_type": "code",
   "execution_count": 24,
   "metadata": {},
   "outputs": [],
   "source": [
    "mnames = ['movie_id','title','genres']"
   ]
  },
  {
   "cell_type": "code",
   "execution_count": 29,
   "metadata": {},
   "outputs": [
    {
     "name": "stdout",
     "output_type": "stream",
     "text": [
      "<class 'pandas.core.frame.DataFrame'>\n",
      "--------------------\n",
      "      movie_id                                              title  \\\n",
      "0            1                                   Toy Story (1995)   \n",
      "1            2                                     Jumanji (1995)   \n",
      "2            3                            Grumpier Old Men (1995)   \n",
      "3            4                           Waiting to Exhale (1995)   \n",
      "4            5                 Father of the Bride Part II (1995)   \n",
      "5            6                                        Heat (1995)   \n",
      "6            7                                     Sabrina (1995)   \n",
      "7            8                                Tom and Huck (1995)   \n",
      "8            9                                Sudden Death (1995)   \n",
      "9           10                                   GoldenEye (1995)   \n",
      "10          11                     American President, The (1995)   \n",
      "11          12                 Dracula: Dead and Loving It (1995)   \n",
      "12          13                                       Balto (1995)   \n",
      "13          14                                       Nixon (1995)   \n",
      "14          15                            Cutthroat Island (1995)   \n",
      "15          16                                      Casino (1995)   \n",
      "16          17                       Sense and Sensibility (1995)   \n",
      "17          18                                  Four Rooms (1995)   \n",
      "18          19              Ace Ventura: When Nature Calls (1995)   \n",
      "19          20                                 Money Train (1995)   \n",
      "20          21                                  Get Shorty (1995)   \n",
      "21          22                                     Copycat (1995)   \n",
      "22          23                                   Assassins (1995)   \n",
      "23          24                                      Powder (1995)   \n",
      "24          25                           Leaving Las Vegas (1995)   \n",
      "25          26                                     Othello (1995)   \n",
      "26          27                                Now and Then (1995)   \n",
      "27          28                                  Persuasion (1995)   \n",
      "28          29                  City of Lost Children, The (1995)   \n",
      "29          30  Shanghai Triad (Yao a yao yao dao waipo qiao) ...   \n",
      "...        ...                                                ...   \n",
      "3853      3923                           Return of the Fly (1959)   \n",
      "3854      3924                                Pajama Party (1964)   \n",
      "3855      3925                      Stranger Than Paradise (1984)   \n",
      "3856      3926             Voyage to the Bottom of the Sea (1961)   \n",
      "3857      3927                            Fantastic Voyage (1966)   \n",
      "3858      3928       Abbott and Costello Meet Frankenstein (1948)   \n",
      "3859      3929                              Bank Dick, The (1940)   \n",
      "3860      3930         Creature From the Black Lagoon, The (1954)   \n",
      "3861      3931                     Giant Gila Monster, The (1959)   \n",
      "3862      3932                          Invisible Man, The (1933)   \n",
      "3863      3933                          Killer Shrews, The (1959)   \n",
      "3864      3934                                      Kronos (1957)   \n",
      "3865      3935                                      Kronos (1973)   \n",
      "3866      3936                   Phantom of the Opera, The (1943)   \n",
      "3867      3937                                     Runaway (1984)   \n",
      "3868      3938                 Slumber Party Massacre, The (1982)   \n",
      "3869      3939              Slumber Party Massacre II, The (1987)   \n",
      "3870      3940             Slumber Party Massacre III, The (1990)   \n",
      "3871      3941                     Sorority House Massacre (1986)   \n",
      "3872      3942                  Sorority House Massacre II (1990)   \n",
      "3873      3943                                  Bamboozled (2000)   \n",
      "3874      3944                                     Bootmen (2000)   \n",
      "3875      3945                          Digimon: The Movie (2000)   \n",
      "3876      3946                                  Get Carter (2000)   \n",
      "3877      3947                                  Get Carter (1971)   \n",
      "3878      3948                            Meet the Parents (2000)   \n",
      "3879      3949                         Requiem for a Dream (2000)   \n",
      "3880      3950                                   Tigerland (2000)   \n",
      "3881      3951                            Two Family House (2000)   \n",
      "3882      3952                              Contender, The (2000)   \n",
      "\n",
      "                              genres  \n",
      "0        Animation|Children's|Comedy  \n",
      "1       Adventure|Children's|Fantasy  \n",
      "2                     Comedy|Romance  \n",
      "3                       Comedy|Drama  \n",
      "4                             Comedy  \n",
      "5              Action|Crime|Thriller  \n",
      "6                     Comedy|Romance  \n",
      "7               Adventure|Children's  \n",
      "8                             Action  \n",
      "9          Action|Adventure|Thriller  \n",
      "10              Comedy|Drama|Romance  \n",
      "11                     Comedy|Horror  \n",
      "12              Animation|Children's  \n",
      "13                             Drama  \n",
      "14          Action|Adventure|Romance  \n",
      "15                    Drama|Thriller  \n",
      "16                     Drama|Romance  \n",
      "17                          Thriller  \n",
      "18                            Comedy  \n",
      "19                            Action  \n",
      "20               Action|Comedy|Drama  \n",
      "21              Crime|Drama|Thriller  \n",
      "22                          Thriller  \n",
      "23                      Drama|Sci-Fi  \n",
      "24                     Drama|Romance  \n",
      "25                             Drama  \n",
      "26                             Drama  \n",
      "27                           Romance  \n",
      "28                  Adventure|Sci-Fi  \n",
      "29                             Drama  \n",
      "...                              ...  \n",
      "3853                   Horror|Sci-Fi  \n",
      "3854                          Comedy  \n",
      "3855                          Comedy  \n",
      "3856                Adventure|Sci-Fi  \n",
      "3857                Adventure|Sci-Fi  \n",
      "3858                   Comedy|Horror  \n",
      "3859                          Comedy  \n",
      "3860                          Horror  \n",
      "3861                   Horror|Sci-Fi  \n",
      "3862                   Horror|Sci-Fi  \n",
      "3863                   Horror|Sci-Fi  \n",
      "3864                          Sci-Fi  \n",
      "3865                          Horror  \n",
      "3866                  Drama|Thriller  \n",
      "3867                 Sci-Fi|Thriller  \n",
      "3868                          Horror  \n",
      "3869                          Horror  \n",
      "3870                          Horror  \n",
      "3871                          Horror  \n",
      "3872                          Horror  \n",
      "3873                          Comedy  \n",
      "3874                    Comedy|Drama  \n",
      "3875  Adventure|Animation|Children's  \n",
      "3876           Action|Drama|Thriller  \n",
      "3877                        Thriller  \n",
      "3878                          Comedy  \n",
      "3879                           Drama  \n",
      "3880                           Drama  \n",
      "3881                           Drama  \n",
      "3882                  Drama|Thriller  \n",
      "\n",
      "[3883 rows x 3 columns]\n"
     ]
    }
   ],
   "source": [
    "movies = pd.read_csv('datasets/movielens/movies.dat',sep='::',header=None,names=mnames,engine='python')\n",
    "show(movies)"
   ]
  },
  {
   "cell_type": "code",
   "execution_count": 30,
   "metadata": {},
   "outputs": [
    {
     "name": "stdout",
     "output_type": "stream",
     "text": [
      "<class 'numpy.ndarray'>\n",
      "--------------------\n",
      "['Animation' \"Children's\" 'Comedy' 'Adventure' 'Fantasy' 'Romance' 'Drama'\n",
      " 'Action' 'Crime' 'Thriller' 'Horror' 'Sci-Fi' 'Documentary' 'War'\n",
      " 'Musical' 'Mystery' 'Film-Noir' 'Western']\n"
     ]
    }
   ],
   "source": [
    "all_genres = []\n",
    "for x in movies.genres:\n",
    "    all_genres.extend(x.split('|'))\n",
    "genres = pd.unique(all_genres)\n",
    "show(genres)"
   ]
  },
  {
   "cell_type": "code",
   "execution_count": 38,
   "metadata": {},
   "outputs": [
    {
     "data": {
      "text/plain": [
       "array([[0., 0., 0., ..., 0., 0., 0.],\n",
       "       [0., 0., 0., ..., 0., 0., 0.],\n",
       "       [0., 0., 0., ..., 0., 0., 0.],\n",
       "       ...,\n",
       "       [0., 0., 0., ..., 0., 0., 0.],\n",
       "       [0., 0., 0., ..., 0., 0., 0.],\n",
       "       [0., 0., 0., ..., 0., 0., 0.]])"
      ]
     },
     "execution_count": 38,
     "metadata": {},
     "output_type": "execute_result"
    }
   ],
   "source": [
    "zero_matrix = np.zeros((len(movies),len(genres)))\n",
    "zero_matrix"
   ]
  },
  {
   "cell_type": "code",
   "execution_count": 39,
   "metadata": {},
   "outputs": [
    {
     "name": "stdout",
     "output_type": "stream",
     "text": [
      "<class 'pandas.core.frame.DataFrame'>\n",
      "--------------------\n",
      "      Animation  Children's  Comedy  Adventure  Fantasy  Romance  Drama  \\\n",
      "0           0.0         0.0     0.0        0.0      0.0      0.0    0.0   \n",
      "1           0.0         0.0     0.0        0.0      0.0      0.0    0.0   \n",
      "2           0.0         0.0     0.0        0.0      0.0      0.0    0.0   \n",
      "3           0.0         0.0     0.0        0.0      0.0      0.0    0.0   \n",
      "...         ...         ...     ...        ...      ...      ...    ...   \n",
      "3879        0.0         0.0     0.0        0.0      0.0      0.0    0.0   \n",
      "3880        0.0         0.0     0.0        0.0      0.0      0.0    0.0   \n",
      "3881        0.0         0.0     0.0        0.0      0.0      0.0    0.0   \n",
      "3882        0.0         0.0     0.0        0.0      0.0      0.0    0.0   \n",
      "\n",
      "      Action  Crime  Thriller  Horror  Sci-Fi  Documentary  War  Musical  \\\n",
      "0        0.0    0.0       0.0     0.0     0.0          0.0  0.0      0.0   \n",
      "1        0.0    0.0       0.0     0.0     0.0          0.0  0.0      0.0   \n",
      "2        0.0    0.0       0.0     0.0     0.0          0.0  0.0      0.0   \n",
      "3        0.0    0.0       0.0     0.0     0.0          0.0  0.0      0.0   \n",
      "...      ...    ...       ...     ...     ...          ...  ...      ...   \n",
      "3879     0.0    0.0       0.0     0.0     0.0          0.0  0.0      0.0   \n",
      "3880     0.0    0.0       0.0     0.0     0.0          0.0  0.0      0.0   \n",
      "3881     0.0    0.0       0.0     0.0     0.0          0.0  0.0      0.0   \n",
      "3882     0.0    0.0       0.0     0.0     0.0          0.0  0.0      0.0   \n",
      "\n",
      "      Mystery  Film-Noir  Western  \n",
      "0         0.0        0.0      0.0  \n",
      "1         0.0        0.0      0.0  \n",
      "2         0.0        0.0      0.0  \n",
      "3         0.0        0.0      0.0  \n",
      "...       ...        ...      ...  \n",
      "3879      0.0        0.0      0.0  \n",
      "3880      0.0        0.0      0.0  \n",
      "3881      0.0        0.0      0.0  \n",
      "3882      0.0        0.0      0.0  \n",
      "\n",
      "[3883 rows x 18 columns]\n"
     ]
    }
   ],
   "source": [
    "dummies = pd.DataFrame(zero_matrix, columns=genres)\n",
    "show(dummies)"
   ]
  },
  {
   "cell_type": "code",
   "execution_count": 40,
   "metadata": {},
   "outputs": [
    {
     "name": "stdout",
     "output_type": "stream",
     "text": [
      "<class 'pandas.core.frame.DataFrame'>\n",
      "--------------------\n",
      "      Animation  Children's  Comedy  Adventure  Fantasy  Romance  Drama  \\\n",
      "0           1.0         1.0     1.0        0.0      0.0      0.0    0.0   \n",
      "1           0.0         1.0     0.0        1.0      1.0      0.0    0.0   \n",
      "2           0.0         0.0     1.0        0.0      0.0      1.0    0.0   \n",
      "3           0.0         0.0     1.0        0.0      0.0      0.0    1.0   \n",
      "...         ...         ...     ...        ...      ...      ...    ...   \n",
      "3879        0.0         0.0     0.0        0.0      0.0      0.0    1.0   \n",
      "3880        0.0         0.0     0.0        0.0      0.0      0.0    1.0   \n",
      "3881        0.0         0.0     0.0        0.0      0.0      0.0    1.0   \n",
      "3882        0.0         0.0     0.0        0.0      0.0      0.0    1.0   \n",
      "\n",
      "      Action  Crime  Thriller  Horror  Sci-Fi  Documentary  War  Musical  \\\n",
      "0        0.0    0.0       0.0     0.0     0.0          0.0  0.0      0.0   \n",
      "1        0.0    0.0       0.0     0.0     0.0          0.0  0.0      0.0   \n",
      "2        0.0    0.0       0.0     0.0     0.0          0.0  0.0      0.0   \n",
      "3        0.0    0.0       0.0     0.0     0.0          0.0  0.0      0.0   \n",
      "...      ...    ...       ...     ...     ...          ...  ...      ...   \n",
      "3879     0.0    0.0       0.0     0.0     0.0          0.0  0.0      0.0   \n",
      "3880     0.0    0.0       0.0     0.0     0.0          0.0  0.0      0.0   \n",
      "3881     0.0    0.0       0.0     0.0     0.0          0.0  0.0      0.0   \n",
      "3882     0.0    0.0       1.0     0.0     0.0          0.0  0.0      0.0   \n",
      "\n",
      "      Mystery  Film-Noir  Western  \n",
      "0         0.0        0.0      0.0  \n",
      "1         0.0        0.0      0.0  \n",
      "2         0.0        0.0      0.0  \n",
      "3         0.0        0.0      0.0  \n",
      "...       ...        ...      ...  \n",
      "3879      0.0        0.0      0.0  \n",
      "3880      0.0        0.0      0.0  \n",
      "3881      0.0        0.0      0.0  \n",
      "3882      0.0        0.0      0.0  \n",
      "\n",
      "[3883 rows x 18 columns]\n"
     ]
    }
   ],
   "source": [
    "for i, gen in enumerate(movies.genres):\n",
    "    indices = dummies.columns.get_indexer(gen.split('|'))\n",
    "    dummies.iloc[i,indices] = 1\n",
    "show(dummies)"
   ]
  },
  {
   "cell_type": "code",
   "execution_count": 41,
   "metadata": {},
   "outputs": [
    {
     "name": "stdout",
     "output_type": "stream",
     "text": [
      "<class 'pandas.core.frame.DataFrame'>\n",
      "--------------------\n",
      "      movie_id                       title                        genres  \\\n",
      "0            1            Toy Story (1995)   Animation|Children's|Comedy   \n",
      "1            2              Jumanji (1995)  Adventure|Children's|Fantasy   \n",
      "2            3     Grumpier Old Men (1995)                Comedy|Romance   \n",
      "3            4    Waiting to Exhale (1995)                  Comedy|Drama   \n",
      "...        ...                         ...                           ...   \n",
      "3879      3949  Requiem for a Dream (2000)                         Drama   \n",
      "3880      3950            Tigerland (2000)                         Drama   \n",
      "3881      3951     Two Family House (2000)                         Drama   \n",
      "3882      3952       Contender, The (2000)                Drama|Thriller   \n",
      "\n",
      "      Genre_Animation  Genre_Children's  Genre_Comedy  Genre_Adventure  \\\n",
      "0                 1.0               1.0           1.0              0.0   \n",
      "1                 0.0               1.0           0.0              1.0   \n",
      "2                 0.0               0.0           1.0              0.0   \n",
      "3                 0.0               0.0           1.0              0.0   \n",
      "...               ...               ...           ...              ...   \n",
      "3879              0.0               0.0           0.0              0.0   \n",
      "3880              0.0               0.0           0.0              0.0   \n",
      "3881              0.0               0.0           0.0              0.0   \n",
      "3882              0.0               0.0           0.0              0.0   \n",
      "\n",
      "      Genre_Fantasy  Genre_Romance  Genre_Drama  ...  Genre_Crime  \\\n",
      "0               0.0            0.0          0.0  ...          0.0   \n",
      "1               1.0            0.0          0.0  ...          0.0   \n",
      "2               0.0            1.0          0.0  ...          0.0   \n",
      "3               0.0            0.0          1.0  ...          0.0   \n",
      "...             ...            ...          ...  ...          ...   \n",
      "3879            0.0            0.0          1.0  ...          0.0   \n",
      "3880            0.0            0.0          1.0  ...          0.0   \n",
      "3881            0.0            0.0          1.0  ...          0.0   \n",
      "3882            0.0            0.0          1.0  ...          0.0   \n",
      "\n",
      "      Genre_Thriller  Genre_Horror  Genre_Sci-Fi  Genre_Documentary  \\\n",
      "0                0.0           0.0           0.0                0.0   \n",
      "1                0.0           0.0           0.0                0.0   \n",
      "2                0.0           0.0           0.0                0.0   \n",
      "3                0.0           0.0           0.0                0.0   \n",
      "...              ...           ...           ...                ...   \n",
      "3879             0.0           0.0           0.0                0.0   \n",
      "3880             0.0           0.0           0.0                0.0   \n",
      "3881             0.0           0.0           0.0                0.0   \n",
      "3882             1.0           0.0           0.0                0.0   \n",
      "\n",
      "      Genre_War  Genre_Musical  Genre_Mystery  Genre_Film-Noir  Genre_Western  \n",
      "0           0.0            0.0            0.0              0.0            0.0  \n",
      "1           0.0            0.0            0.0              0.0            0.0  \n",
      "2           0.0            0.0            0.0              0.0            0.0  \n",
      "3           0.0            0.0            0.0              0.0            0.0  \n",
      "...         ...            ...            ...              ...            ...  \n",
      "3879        0.0            0.0            0.0              0.0            0.0  \n",
      "3880        0.0            0.0            0.0              0.0            0.0  \n",
      "3881        0.0            0.0            0.0              0.0            0.0  \n",
      "3882        0.0            0.0            0.0              0.0            0.0  \n",
      "\n",
      "[3883 rows x 21 columns]\n"
     ]
    }
   ],
   "source": [
    "movies_windic = movies.join(dummies.add_prefix('Genre_'))\n",
    "show(movies_windic)"
   ]
  },
  {
   "cell_type": "code",
   "execution_count": 42,
   "metadata": {},
   "outputs": [
    {
     "data": {
      "text/plain": [
       "array([0.92961609, 0.31637555, 0.18391881, 0.20456028, 0.56772503,\n",
       "       0.5955447 , 0.96451452, 0.6531771 , 0.74890664, 0.65356987])"
      ]
     },
     "execution_count": 42,
     "metadata": {},
     "output_type": "execute_result"
    }
   ],
   "source": [
    "np.random.seed(12345)\n",
    "values = np.random.rand(10)\n",
    "values"
   ]
  },
  {
   "cell_type": "code",
   "execution_count": 43,
   "metadata": {},
   "outputs": [],
   "source": [
    "bins = [0,0.2,0.4,0.6,0.8,1]"
   ]
  },
  {
   "cell_type": "code",
   "execution_count": 44,
   "metadata": {},
   "outputs": [
    {
     "data": {
      "text/plain": [
       "[(0.8, 1.0], (0.2, 0.4], (0.0, 0.2], (0.2, 0.4], (0.4, 0.6], (0.4, 0.6], (0.8, 1.0], (0.6, 0.8], (0.6, 0.8], (0.6, 0.8]]\n",
       "Categories (5, interval[float64]): [(0.0, 0.2] < (0.2, 0.4] < (0.4, 0.6] < (0.6, 0.8] < (0.8, 1.0]]"
      ]
     },
     "execution_count": 44,
     "metadata": {},
     "output_type": "execute_result"
    }
   ],
   "source": [
    "pd.cut(values,bins)"
   ]
  },
  {
   "cell_type": "code",
   "execution_count": 46,
   "metadata": {},
   "outputs": [
    {
     "data": {
      "text/plain": [
       "    (0.0, 0.2]  (0.2, 0.4]  (0.4, 0.6]  (0.6, 0.8]  (0.8, 1.0]\n",
       "0            0           0           0           0           1\n",
       "1            0           1           0           0           0\n",
       "2            1           0           0           0           0\n",
       "3            0           1           0           0           0\n",
       "..         ...         ...         ...         ...         ...\n",
       "6            0           0           0           0           1\n",
       "7            0           0           0           1           0\n",
       "8            0           0           0           1           0\n",
       "9            0           0           0           1           0\n",
       "\n",
       "[10 rows x 5 columns]"
      ]
     },
     "execution_count": 46,
     "metadata": {},
     "output_type": "execute_result"
    }
   ],
   "source": [
    "pd.get_dummies(_)"
   ]
  },
  {
   "cell_type": "code",
   "execution_count": null,
   "metadata": {},
   "outputs": [],
   "source": []
  }
 ],
 "metadata": {
  "kernelspec": {
   "display_name": "Python [conda env:py36]",
   "language": "python",
   "name": "conda-env-py36-py"
  },
  "language_info": {
   "codemirror_mode": {
    "name": "ipython",
    "version": 3
   },
   "file_extension": ".py",
   "mimetype": "text/x-python",
   "name": "python",
   "nbconvert_exporter": "python",
   "pygments_lexer": "ipython3",
   "version": "3.6.7"
  },
  "varInspector": {
   "cols": {
    "lenName": 16,
    "lenType": 16,
    "lenVar": 40
   },
   "kernels_config": {
    "python": {
     "delete_cmd_postfix": "",
     "delete_cmd_prefix": "del ",
     "library": "var_list.py",
     "varRefreshCmd": "print(var_dic_list())"
    },
    "r": {
     "delete_cmd_postfix": ") ",
     "delete_cmd_prefix": "rm(",
     "library": "var_list.r",
     "varRefreshCmd": "cat(var_dic_list()) "
    }
   },
   "types_to_exclude": [
    "module",
    "function",
    "builtin_function_or_method",
    "instance",
    "_Feature"
   ],
   "window_display": false
  }
 },
 "nbformat": 4,
 "nbformat_minor": 2
}
